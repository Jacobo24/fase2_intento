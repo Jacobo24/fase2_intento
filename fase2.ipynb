{
 "cells": [
  {
   "cell_type": "code",
   "execution_count": 39,
   "metadata": {},
   "outputs": [],
   "source": [
    "import pandas as pd\n",
    "import matplotlib.pyplot as plt\n",
    "import numpy as np"
   ]
  },
  {
   "cell_type": "code",
   "execution_count": 41,
   "metadata": {},
   "outputs": [],
   "source": [
    "from matplotlib.pyplot import rcParams\n",
    "\n",
    "rcParams['figure.figsize'] = 15, 10\n",
    "rcParams[\"font.weight\"] = \"bold\"\n",
    "rcParams[\"axes.labelweight\"] = \"bold\"\n",
    "rcParams[\"font.size\"] = 12"
   ]
  },
  {
   "cell_type": "code",
   "execution_count": 42,
   "metadata": {},
   "outputs": [
    {
     "data": {
      "text/html": [
       "<div>\n",
       "<style scoped>\n",
       "    .dataframe tbody tr th:only-of-type {\n",
       "        vertical-align: middle;\n",
       "    }\n",
       "\n",
       "    .dataframe tbody tr th {\n",
       "        vertical-align: top;\n",
       "    }\n",
       "\n",
       "    .dataframe thead th {\n",
       "        text-align: right;\n",
       "    }\n",
       "</style>\n",
       "<table border=\"1\" class=\"dataframe\">\n",
       "  <thead>\n",
       "    <tr style=\"text-align: right;\">\n",
       "      <th></th>\n",
       "      <th>CENTRO</th>\n",
       "      <th>USO</th>\n",
       "      <th>Coordenada-X</th>\n",
       "      <th>Coordenada-Y</th>\n",
       "      <th>POTENCIA KWP</th>\n",
       "      <th>AÑO</th>\n",
       "      <th>MES</th>\n",
       "      <th>CÁLCULO</th>\n",
       "      <th>ENERGÍA PRODUCIDA KWh</th>\n",
       "    </tr>\n",
       "  </thead>\n",
       "  <tbody>\n",
       "    <tr>\n",
       "      <th>0</th>\n",
       "      <td>MADRID EMPRENDE</td>\n",
       "      <td>administrativo</td>\n",
       "      <td>436689.0</td>\n",
       "      <td>4468938.0</td>\n",
       "      <td>10.0</td>\n",
       "      <td>2019</td>\n",
       "      <td>enero</td>\n",
       "      <td>Estimación</td>\n",
       "      <td>1004.400</td>\n",
       "    </tr>\n",
       "    <tr>\n",
       "      <th>1</th>\n",
       "      <td>MARES MADRID</td>\n",
       "      <td>administrativo</td>\n",
       "      <td>443153.0</td>\n",
       "      <td>4471330.0</td>\n",
       "      <td>7.0</td>\n",
       "      <td>2019</td>\n",
       "      <td>enero</td>\n",
       "      <td>Estimación</td>\n",
       "      <td>703.080</td>\n",
       "    </tr>\n",
       "    <tr>\n",
       "      <th>2</th>\n",
       "      <td>NAVE BOETTICHER</td>\n",
       "      <td>administrativo</td>\n",
       "      <td>440849.0</td>\n",
       "      <td>4466524.0</td>\n",
       "      <td>5.0</td>\n",
       "      <td>2019</td>\n",
       "      <td>enero</td>\n",
       "      <td>Estimación</td>\n",
       "      <td>502.200</td>\n",
       "    </tr>\n",
       "    <tr>\n",
       "      <th>3</th>\n",
       "      <td>AULA DE LA NATURALEZA DEHESA DE LA VILLA</td>\n",
       "      <td>medioambiental</td>\n",
       "      <td>439102.0</td>\n",
       "      <td>4478967.0</td>\n",
       "      <td>2.5</td>\n",
       "      <td>2019</td>\n",
       "      <td>enero</td>\n",
       "      <td>Estimación</td>\n",
       "      <td>251.100</td>\n",
       "    </tr>\n",
       "    <tr>\n",
       "      <th>4</th>\n",
       "      <td>VIVERO MUNICIPAL DE ESTUFAS DEL RETIRO</td>\n",
       "      <td>medioambiental</td>\n",
       "      <td>441779.0</td>\n",
       "      <td>4473428.0</td>\n",
       "      <td>5.0</td>\n",
       "      <td>2019</td>\n",
       "      <td>enero</td>\n",
       "      <td>Estimación</td>\n",
       "      <td>502.200</td>\n",
       "    </tr>\n",
       "    <tr>\n",
       "      <th>...</th>\n",
       "      <td>...</td>\n",
       "      <td>...</td>\n",
       "      <td>...</td>\n",
       "      <td>...</td>\n",
       "      <td>...</td>\n",
       "      <td>...</td>\n",
       "      <td>...</td>\n",
       "      <td>...</td>\n",
       "      <td>...</td>\n",
       "    </tr>\n",
       "    <tr>\n",
       "      <th>4973</th>\n",
       "      <td>OAIC SACRAMENTO AGENCIA TRIBUTARIA</td>\n",
       "      <td>administrativo</td>\n",
       "      <td>439688.2</td>\n",
       "      <td>4474009.8</td>\n",
       "      <td>8.0</td>\n",
       "      <td>2023</td>\n",
       "      <td>marzo</td>\n",
       "      <td>Estimación</td>\n",
       "      <td>1330.272</td>\n",
       "    </tr>\n",
       "    <tr>\n",
       "      <th>4974</th>\n",
       "      <td>BASE SAMUR 4</td>\n",
       "      <td>sanitario</td>\n",
       "      <td>445135.7</td>\n",
       "      <td>4475423.6</td>\n",
       "      <td>2.0</td>\n",
       "      <td>2023</td>\n",
       "      <td>marzo</td>\n",
       "      <td>Estimación</td>\n",
       "      <td>332.568</td>\n",
       "    </tr>\n",
       "    <tr>\n",
       "      <th>4975</th>\n",
       "      <td>Vivero de la Casa de Campo</td>\n",
       "      <td>medioambiental</td>\n",
       "      <td>438625.6</td>\n",
       "      <td>4474696.0</td>\n",
       "      <td>NaN</td>\n",
       "      <td>2023</td>\n",
       "      <td>marzo</td>\n",
       "      <td>Medición</td>\n",
       "      <td>681.000</td>\n",
       "    </tr>\n",
       "    <tr>\n",
       "      <th>4976</th>\n",
       "      <td>CMM SAN DIEGO</td>\n",
       "      <td>social</td>\n",
       "      <td>443704.6</td>\n",
       "      <td>4471139.1</td>\n",
       "      <td>10.0</td>\n",
       "      <td>2023</td>\n",
       "      <td>marzo</td>\n",
       "      <td>Estimación</td>\n",
       "      <td>1662.840</td>\n",
       "    </tr>\n",
       "    <tr>\n",
       "      <th>4977</th>\n",
       "      <td>CSS CENTRO DE DÍA Y ALZHEIMER ENSANCHE DE VALL...</td>\n",
       "      <td>social</td>\n",
       "      <td>449246.7</td>\n",
       "      <td>4468156.3</td>\n",
       "      <td>8.0</td>\n",
       "      <td>2023</td>\n",
       "      <td>marzo</td>\n",
       "      <td>Estimación</td>\n",
       "      <td>1330.272</td>\n",
       "    </tr>\n",
       "  </tbody>\n",
       "</table>\n",
       "<p>4978 rows × 9 columns</p>\n",
       "</div>"
      ],
      "text/plain": [
       "                                                 CENTRO             USO   \n",
       "0                                       MADRID EMPRENDE  administrativo  \\\n",
       "1                                          MARES MADRID  administrativo   \n",
       "2                                       NAVE BOETTICHER  administrativo   \n",
       "3              AULA DE LA NATURALEZA DEHESA DE LA VILLA  medioambiental   \n",
       "4                VIVERO MUNICIPAL DE ESTUFAS DEL RETIRO  medioambiental   \n",
       "...                                                 ...             ...   \n",
       "4973                 OAIC SACRAMENTO AGENCIA TRIBUTARIA  administrativo   \n",
       "4974                                       BASE SAMUR 4       sanitario   \n",
       "4975                         Vivero de la Casa de Campo  medioambiental   \n",
       "4976                                      CMM SAN DIEGO          social   \n",
       "4977  CSS CENTRO DE DÍA Y ALZHEIMER ENSANCHE DE VALL...          social   \n",
       "\n",
       "      Coordenada-X  Coordenada-Y  POTENCIA KWP   AÑO    MES     CÁLCULO   \n",
       "0         436689.0     4468938.0          10.0  2019  enero  Estimación  \\\n",
       "1         443153.0     4471330.0           7.0  2019  enero  Estimación   \n",
       "2         440849.0     4466524.0           5.0  2019  enero  Estimación   \n",
       "3         439102.0     4478967.0           2.5  2019  enero  Estimación   \n",
       "4         441779.0     4473428.0           5.0  2019  enero  Estimación   \n",
       "...            ...           ...           ...   ...    ...         ...   \n",
       "4973      439688.2     4474009.8           8.0  2023  marzo  Estimación   \n",
       "4974      445135.7     4475423.6           2.0  2023  marzo  Estimación   \n",
       "4975      438625.6     4474696.0           NaN  2023  marzo    Medición   \n",
       "4976      443704.6     4471139.1          10.0  2023  marzo  Estimación   \n",
       "4977      449246.7     4468156.3           8.0  2023  marzo  Estimación   \n",
       "\n",
       "      ENERGÍA PRODUCIDA KWh  \n",
       "0                  1004.400  \n",
       "1                   703.080  \n",
       "2                   502.200  \n",
       "3                   251.100  \n",
       "4                   502.200  \n",
       "...                     ...  \n",
       "4973               1330.272  \n",
       "4974                332.568  \n",
       "4975                681.000  \n",
       "4976               1662.840  \n",
       "4977               1330.272  \n",
       "\n",
       "[4978 rows x 9 columns]"
      ]
     },
     "execution_count": 42,
     "metadata": {},
     "output_type": "execute_result"
    }
   ],
   "source": [
    "df_placas = pd.read_excel('placas_solares.xlsx')\n",
    "\n",
    "df_placas"
   ]
  },
  {
   "cell_type": "code",
   "execution_count": 43,
   "metadata": {},
   "outputs": [
    {
     "data": {
      "text/plain": [
       "CENTRO                   2\n",
       "USO                      2\n",
       "Coordenada-X             2\n",
       "Coordenada-Y             2\n",
       "POTENCIA KWP             3\n",
       "AÑO                      0\n",
       "MES                      0\n",
       "CÁLCULO                  0\n",
       "ENERGÍA PRODUCIDA KWh    0\n",
       "dtype: int64"
      ]
     },
     "execution_count": 43,
     "metadata": {},
     "output_type": "execute_result"
    }
   ],
   "source": [
    "df_placas.isna().sum() # Verificando los valores nulos"
   ]
  },
  {
   "cell_type": "code",
   "execution_count": 21,
   "metadata": {},
   "outputs": [
    {
     "name": "stdout",
     "output_type": "stream",
     "text": [
      "<class 'pandas.core.frame.DataFrame'>\n",
      "RangeIndex: 4978 entries, 0 to 4977\n",
      "Data columns (total 9 columns):\n",
      " #   Column                 Non-Null Count  Dtype  \n",
      "---  ------                 --------------  -----  \n",
      " 0   CENTRO                 4976 non-null   object \n",
      " 1   USO                    4976 non-null   object \n",
      " 2   Coordenada-X           4976 non-null   float64\n",
      " 3   Coordenada-Y           4976 non-null   float64\n",
      " 4   POTENCIA KWP           4975 non-null   float64\n",
      " 5   AÑO                    4978 non-null   int64  \n",
      " 6   MES                    4978 non-null   object \n",
      " 7   CÁLCULO                4978 non-null   object \n",
      " 8   ENERGÍA PRODUCIDA KWh  4978 non-null   float64\n",
      "dtypes: float64(4), int64(1), object(4)\n",
      "memory usage: 350.1+ KB\n"
     ]
    }
   ],
   "source": [
    "df_placas.info()"
   ]
  },
  {
   "cell_type": "code",
   "execution_count": 44,
   "metadata": {},
   "outputs": [],
   "source": [
    "# nose por qué se hace eso df_placas[\"MES\"].isna()"
   ]
  },
  {
   "cell_type": "code",
   "execution_count": 45,
   "metadata": {},
   "outputs": [
    {
     "data": {
      "text/plain": [
       "3"
      ]
     },
     "execution_count": 45,
     "metadata": {},
     "output_type": "execute_result"
    }
   ],
   "source": [
    "df_placas[\"POTENCIA KWP\"].isna().sum()"
   ]
  },
  {
   "cell_type": "code",
   "execution_count": 46,
   "metadata": {},
   "outputs": [
    {
     "data": {
      "text/plain": [
       "Series([], Name: MES, dtype: object)"
      ]
     },
     "execution_count": 46,
     "metadata": {},
     "output_type": "execute_result"
    }
   ],
   "source": [
    "df_placas[\"MES\"][df_placas[\"MES\"].isna()]"
   ]
  },
  {
   "cell_type": "code",
   "execution_count": 47,
   "metadata": {},
   "outputs": [
    {
     "data": {
      "text/html": [
       "<div>\n",
       "<style scoped>\n",
       "    .dataframe tbody tr th:only-of-type {\n",
       "        vertical-align: middle;\n",
       "    }\n",
       "\n",
       "    .dataframe tbody tr th {\n",
       "        vertical-align: top;\n",
       "    }\n",
       "\n",
       "    .dataframe thead th {\n",
       "        text-align: right;\n",
       "    }\n",
       "</style>\n",
       "<table border=\"1\" class=\"dataframe\">\n",
       "  <thead>\n",
       "    <tr style=\"text-align: right;\">\n",
       "      <th></th>\n",
       "      <th>CENTRO</th>\n",
       "      <th>USO</th>\n",
       "      <th>AÑO</th>\n",
       "      <th>MES</th>\n",
       "      <th>CÁLCULO</th>\n",
       "    </tr>\n",
       "  </thead>\n",
       "  <tbody>\n",
       "    <tr>\n",
       "      <th>4</th>\n",
       "      <td>VIVERO MUNICIPAL DE ESTUFAS DEL RETIRO</td>\n",
       "      <td>medioambiental</td>\n",
       "      <td>2019</td>\n",
       "      <td>enero</td>\n",
       "      <td>Estimación</td>\n",
       "    </tr>\n",
       "    <tr>\n",
       "      <th>5</th>\n",
       "      <td>VIVERO MUNICIPAL DE MIGAS CALIENTES</td>\n",
       "      <td>medioambiental</td>\n",
       "      <td>2019</td>\n",
       "      <td>enero</td>\n",
       "      <td>Estimación</td>\n",
       "    </tr>\n",
       "    <tr>\n",
       "      <th>6</th>\n",
       "      <td>ROSALEDA DEL PARQUE DEL OESTE</td>\n",
       "      <td>medioambiental</td>\n",
       "      <td>2019</td>\n",
       "      <td>enero</td>\n",
       "      <td>Estimación</td>\n",
       "    </tr>\n",
       "    <tr>\n",
       "      <th>7</th>\n",
       "      <td>UID VILLA DE VALLECAS</td>\n",
       "      <td>seguridad</td>\n",
       "      <td>2019</td>\n",
       "      <td>enero</td>\n",
       "      <td>Estimación</td>\n",
       "    </tr>\n",
       "    <tr>\n",
       "      <th>8</th>\n",
       "      <td>BASE 14 SAMUR</td>\n",
       "      <td>sanitario</td>\n",
       "      <td>2019</td>\n",
       "      <td>enero</td>\n",
       "      <td>Estimación</td>\n",
       "    </tr>\n",
       "    <tr>\n",
       "      <th>...</th>\n",
       "      <td>...</td>\n",
       "      <td>...</td>\n",
       "      <td>...</td>\n",
       "      <td>...</td>\n",
       "      <td>...</td>\n",
       "    </tr>\n",
       "    <tr>\n",
       "      <th>3295</th>\n",
       "      <td>UID VILLA DE VALLECAS</td>\n",
       "      <td>seguridad</td>\n",
       "      <td>2022</td>\n",
       "      <td>enero</td>\n",
       "      <td>Estimación</td>\n",
       "    </tr>\n",
       "    <tr>\n",
       "      <th>3296</th>\n",
       "      <td>BASE 14 SAMUR</td>\n",
       "      <td>sanitario</td>\n",
       "      <td>2022</td>\n",
       "      <td>enero</td>\n",
       "      <td>Estimación</td>\n",
       "    </tr>\n",
       "    <tr>\n",
       "      <th>3297</th>\n",
       "      <td>CENTRO PROTECCIÓN ANIMAL</td>\n",
       "      <td>sanitario</td>\n",
       "      <td>2022</td>\n",
       "      <td>enero</td>\n",
       "      <td>Estimación</td>\n",
       "    </tr>\n",
       "    <tr>\n",
       "      <th>3298</th>\n",
       "      <td>PARQUE BOMBEROS Nº 6</td>\n",
       "      <td>seguridad</td>\n",
       "      <td>2022</td>\n",
       "      <td>enero</td>\n",
       "      <td>Estimación</td>\n",
       "    </tr>\n",
       "    <tr>\n",
       "      <th>3299</th>\n",
       "      <td>PARQUE DE BOMBEROS Nº 7</td>\n",
       "      <td>seguridad</td>\n",
       "      <td>2022</td>\n",
       "      <td>enero</td>\n",
       "      <td>Estimación</td>\n",
       "    </tr>\n",
       "  </tbody>\n",
       "</table>\n",
       "<p>3296 rows × 5 columns</p>\n",
       "</div>"
      ],
      "text/plain": [
       "                                      CENTRO             USO   AÑO    MES   \n",
       "4     VIVERO MUNICIPAL DE ESTUFAS DEL RETIRO  medioambiental  2019  enero  \\\n",
       "5        VIVERO MUNICIPAL DE MIGAS CALIENTES  medioambiental  2019  enero   \n",
       "6              ROSALEDA DEL PARQUE DEL OESTE  medioambiental  2019  enero   \n",
       "7                      UID VILLA DE VALLECAS       seguridad  2019  enero   \n",
       "8                              BASE 14 SAMUR       sanitario  2019  enero   \n",
       "...                                      ...             ...   ...    ...   \n",
       "3295                   UID VILLA DE VALLECAS       seguridad  2022  enero   \n",
       "3296                           BASE 14 SAMUR       sanitario  2022  enero   \n",
       "3297                CENTRO PROTECCIÓN ANIMAL       sanitario  2022  enero   \n",
       "3298                    PARQUE BOMBEROS Nº 6       seguridad  2022  enero   \n",
       "3299                 PARQUE DE BOMBEROS Nº 7       seguridad  2022  enero   \n",
       "\n",
       "         CÁLCULO  \n",
       "4     Estimación  \n",
       "5     Estimación  \n",
       "6     Estimación  \n",
       "7     Estimación  \n",
       "8     Estimación  \n",
       "...          ...  \n",
       "3295  Estimación  \n",
       "3296  Estimación  \n",
       "3297  Estimación  \n",
       "3298  Estimación  \n",
       "3299  Estimación  \n",
       "\n",
       "[3296 rows x 5 columns]"
      ]
     },
     "execution_count": 47,
     "metadata": {},
     "output_type": "execute_result"
    }
   ],
   "source": [
    "df_placas[4:3300][[\"CENTRO\", \"USO\", \"AÑO\", \"MES\",\"CÁLCULO\"]]"
   ]
  },
  {
   "cell_type": "code",
   "execution_count": 48,
   "metadata": {},
   "outputs": [
    {
     "data": {
      "text/html": [
       "<div>\n",
       "<style scoped>\n",
       "    .dataframe tbody tr th:only-of-type {\n",
       "        vertical-align: middle;\n",
       "    }\n",
       "\n",
       "    .dataframe tbody tr th {\n",
       "        vertical-align: top;\n",
       "    }\n",
       "\n",
       "    .dataframe thead th {\n",
       "        text-align: right;\n",
       "    }\n",
       "</style>\n",
       "<table border=\"1\" class=\"dataframe\">\n",
       "  <thead>\n",
       "    <tr style=\"text-align: right;\">\n",
       "      <th></th>\n",
       "      <th>CENTRO</th>\n",
       "      <th>USO</th>\n",
       "      <th>Coordenada-X</th>\n",
       "      <th>Coordenada-Y</th>\n",
       "      <th>POTENCIA KWP</th>\n",
       "      <th>AÑO</th>\n",
       "      <th>MES</th>\n",
       "      <th>CÁLCULO</th>\n",
       "      <th>ENERGÍA PRODUCIDA KWh</th>\n",
       "    </tr>\n",
       "  </thead>\n",
       "  <tbody>\n",
       "    <tr>\n",
       "      <th>3076</th>\n",
       "      <td>NaN</td>\n",
       "      <td>NaN</td>\n",
       "      <td>NaN</td>\n",
       "      <td>NaN</td>\n",
       "      <td>7.0</td>\n",
       "      <td>2021</td>\n",
       "      <td>noviembre</td>\n",
       "      <td>Estimación</td>\n",
       "      <td>748.440</td>\n",
       "    </tr>\n",
       "    <tr>\n",
       "      <th>3182</th>\n",
       "      <td>NaN</td>\n",
       "      <td>NaN</td>\n",
       "      <td>NaN</td>\n",
       "      <td>NaN</td>\n",
       "      <td>7.0</td>\n",
       "      <td>2021</td>\n",
       "      <td>diciembre</td>\n",
       "      <td>Estimación</td>\n",
       "      <td>679.644</td>\n",
       "    </tr>\n",
       "    <tr>\n",
       "      <th>4727</th>\n",
       "      <td>Vivero de la Casa de Campo</td>\n",
       "      <td>medioambiental</td>\n",
       "      <td>438625.6</td>\n",
       "      <td>4474696.0</td>\n",
       "      <td>NaN</td>\n",
       "      <td>2023</td>\n",
       "      <td>enero</td>\n",
       "      <td>Medición</td>\n",
       "      <td>345.000</td>\n",
       "    </tr>\n",
       "    <tr>\n",
       "      <th>4850</th>\n",
       "      <td>Vivero de la Casa de Campo</td>\n",
       "      <td>medioambiental</td>\n",
       "      <td>438625.6</td>\n",
       "      <td>4474696.0</td>\n",
       "      <td>NaN</td>\n",
       "      <td>2023</td>\n",
       "      <td>febrero</td>\n",
       "      <td>Medición</td>\n",
       "      <td>448.000</td>\n",
       "    </tr>\n",
       "    <tr>\n",
       "      <th>4975</th>\n",
       "      <td>Vivero de la Casa de Campo</td>\n",
       "      <td>medioambiental</td>\n",
       "      <td>438625.6</td>\n",
       "      <td>4474696.0</td>\n",
       "      <td>NaN</td>\n",
       "      <td>2023</td>\n",
       "      <td>marzo</td>\n",
       "      <td>Medición</td>\n",
       "      <td>681.000</td>\n",
       "    </tr>\n",
       "  </tbody>\n",
       "</table>\n",
       "</div>"
      ],
      "text/plain": [
       "                          CENTRO             USO  Coordenada-X  Coordenada-Y   \n",
       "3076                         NaN             NaN           NaN           NaN  \\\n",
       "3182                         NaN             NaN           NaN           NaN   \n",
       "4727  Vivero de la Casa de Campo  medioambiental      438625.6     4474696.0   \n",
       "4850  Vivero de la Casa de Campo  medioambiental      438625.6     4474696.0   \n",
       "4975  Vivero de la Casa de Campo  medioambiental      438625.6     4474696.0   \n",
       "\n",
       "      POTENCIA KWP   AÑO        MES     CÁLCULO  ENERGÍA PRODUCIDA KWh  \n",
       "3076           7.0  2021  noviembre  Estimación                748.440  \n",
       "3182           7.0  2021  diciembre  Estimación                679.644  \n",
       "4727           NaN  2023      enero    Medición                345.000  \n",
       "4850           NaN  2023    febrero    Medición                448.000  \n",
       "4975           NaN  2023      marzo    Medición                681.000  "
      ]
     },
     "execution_count": 48,
     "metadata": {},
     "output_type": "execute_result"
    }
   ],
   "source": [
    "df_placas.drop(df_placas.dropna().index)"
   ]
  },
  {
   "cell_type": "code",
   "execution_count": 49,
   "metadata": {},
   "outputs": [
    {
     "data": {
      "text/plain": [
       "4973"
      ]
     },
     "execution_count": 49,
     "metadata": {},
     "output_type": "execute_result"
    }
   ],
   "source": [
    "\n",
    "df_placas.shape[0] - 5"
   ]
  },
  {
   "cell_type": "code",
   "execution_count": 50,
   "metadata": {},
   "outputs": [
    {
     "data": {
      "text/html": [
       "<div>\n",
       "<style scoped>\n",
       "    .dataframe tbody tr th:only-of-type {\n",
       "        vertical-align: middle;\n",
       "    }\n",
       "\n",
       "    .dataframe tbody tr th {\n",
       "        vertical-align: top;\n",
       "    }\n",
       "\n",
       "    .dataframe thead th {\n",
       "        text-align: right;\n",
       "    }\n",
       "</style>\n",
       "<table border=\"1\" class=\"dataframe\">\n",
       "  <thead>\n",
       "    <tr style=\"text-align: right;\">\n",
       "      <th></th>\n",
       "      <th>CENTRO</th>\n",
       "      <th>USO</th>\n",
       "      <th>Coordenada-X</th>\n",
       "      <th>Coordenada-Y</th>\n",
       "      <th>POTENCIA KWP</th>\n",
       "      <th>AÑO</th>\n",
       "      <th>MES</th>\n",
       "      <th>CÁLCULO</th>\n",
       "      <th>ENERGÍA PRODUCIDA KWh</th>\n",
       "    </tr>\n",
       "  </thead>\n",
       "  <tbody>\n",
       "    <tr>\n",
       "      <th>0</th>\n",
       "      <td>MADRID EMPRENDE</td>\n",
       "      <td>administrativo</td>\n",
       "      <td>436689.0</td>\n",
       "      <td>4468938.0</td>\n",
       "      <td>10.0</td>\n",
       "      <td>2019</td>\n",
       "      <td>enero</td>\n",
       "      <td>Estimación</td>\n",
       "      <td>1004.400000</td>\n",
       "    </tr>\n",
       "    <tr>\n",
       "      <th>1</th>\n",
       "      <td>MARES MADRID</td>\n",
       "      <td>administrativo</td>\n",
       "      <td>443153.0</td>\n",
       "      <td>4471330.0</td>\n",
       "      <td>7.0</td>\n",
       "      <td>2019</td>\n",
       "      <td>enero</td>\n",
       "      <td>Estimación</td>\n",
       "      <td>703.080000</td>\n",
       "    </tr>\n",
       "    <tr>\n",
       "      <th>2</th>\n",
       "      <td>NAVE BOETTICHER</td>\n",
       "      <td>administrativo</td>\n",
       "      <td>440849.0</td>\n",
       "      <td>4466524.0</td>\n",
       "      <td>5.0</td>\n",
       "      <td>2019</td>\n",
       "      <td>enero</td>\n",
       "      <td>Estimación</td>\n",
       "      <td>502.200000</td>\n",
       "    </tr>\n",
       "    <tr>\n",
       "      <th>3</th>\n",
       "      <td>AULA DE LA NATURALEZA DEHESA DE LA VILLA</td>\n",
       "      <td>medioambiental</td>\n",
       "      <td>439102.0</td>\n",
       "      <td>4478967.0</td>\n",
       "      <td>2.5</td>\n",
       "      <td>2019</td>\n",
       "      <td>enero</td>\n",
       "      <td>Estimación</td>\n",
       "      <td>251.100000</td>\n",
       "    </tr>\n",
       "    <tr>\n",
       "      <th>4</th>\n",
       "      <td>VIVERO MUNICIPAL DE ESTUFAS DEL RETIRO</td>\n",
       "      <td>medioambiental</td>\n",
       "      <td>441779.0</td>\n",
       "      <td>4473428.0</td>\n",
       "      <td>5.0</td>\n",
       "      <td>2019</td>\n",
       "      <td>enero</td>\n",
       "      <td>Estimación</td>\n",
       "      <td>502.200000</td>\n",
       "    </tr>\n",
       "    <tr>\n",
       "      <th>...</th>\n",
       "      <td>...</td>\n",
       "      <td>...</td>\n",
       "      <td>...</td>\n",
       "      <td>...</td>\n",
       "      <td>...</td>\n",
       "      <td>...</td>\n",
       "      <td>...</td>\n",
       "      <td>...</td>\n",
       "      <td>...</td>\n",
       "    </tr>\n",
       "    <tr>\n",
       "      <th>4968</th>\n",
       "      <td>CDM HORTALEZA</td>\n",
       "      <td>deportivo</td>\n",
       "      <td>444781.7</td>\n",
       "      <td>4481144.5</td>\n",
       "      <td>99.4</td>\n",
       "      <td>2023</td>\n",
       "      <td>marzo</td>\n",
       "      <td>Medición</td>\n",
       "      <td>11249.600586</td>\n",
       "    </tr>\n",
       "    <tr>\n",
       "      <th>4969</th>\n",
       "      <td>OAIC SACRAMENTO AGENCIA TRIBUTARIA</td>\n",
       "      <td>administrativo</td>\n",
       "      <td>439688.2</td>\n",
       "      <td>4474009.8</td>\n",
       "      <td>8.0</td>\n",
       "      <td>2023</td>\n",
       "      <td>marzo</td>\n",
       "      <td>Estimación</td>\n",
       "      <td>1330.272000</td>\n",
       "    </tr>\n",
       "    <tr>\n",
       "      <th>4970</th>\n",
       "      <td>BASE SAMUR 4</td>\n",
       "      <td>sanitario</td>\n",
       "      <td>445135.7</td>\n",
       "      <td>4475423.6</td>\n",
       "      <td>2.0</td>\n",
       "      <td>2023</td>\n",
       "      <td>marzo</td>\n",
       "      <td>Estimación</td>\n",
       "      <td>332.568000</td>\n",
       "    </tr>\n",
       "    <tr>\n",
       "      <th>4971</th>\n",
       "      <td>CMM SAN DIEGO</td>\n",
       "      <td>social</td>\n",
       "      <td>443704.6</td>\n",
       "      <td>4471139.1</td>\n",
       "      <td>10.0</td>\n",
       "      <td>2023</td>\n",
       "      <td>marzo</td>\n",
       "      <td>Estimación</td>\n",
       "      <td>1662.840000</td>\n",
       "    </tr>\n",
       "    <tr>\n",
       "      <th>4972</th>\n",
       "      <td>CSS CENTRO DE DÍA Y ALZHEIMER ENSANCHE DE VALL...</td>\n",
       "      <td>social</td>\n",
       "      <td>449246.7</td>\n",
       "      <td>4468156.3</td>\n",
       "      <td>8.0</td>\n",
       "      <td>2023</td>\n",
       "      <td>marzo</td>\n",
       "      <td>Estimación</td>\n",
       "      <td>1330.272000</td>\n",
       "    </tr>\n",
       "  </tbody>\n",
       "</table>\n",
       "<p>4973 rows × 9 columns</p>\n",
       "</div>"
      ],
      "text/plain": [
       "                                                 CENTRO             USO   \n",
       "0                                       MADRID EMPRENDE  administrativo  \\\n",
       "1                                          MARES MADRID  administrativo   \n",
       "2                                       NAVE BOETTICHER  administrativo   \n",
       "3              AULA DE LA NATURALEZA DEHESA DE LA VILLA  medioambiental   \n",
       "4                VIVERO MUNICIPAL DE ESTUFAS DEL RETIRO  medioambiental   \n",
       "...                                                 ...             ...   \n",
       "4968                                      CDM HORTALEZA       deportivo   \n",
       "4969                 OAIC SACRAMENTO AGENCIA TRIBUTARIA  administrativo   \n",
       "4970                                       BASE SAMUR 4       sanitario   \n",
       "4971                                      CMM SAN DIEGO          social   \n",
       "4972  CSS CENTRO DE DÍA Y ALZHEIMER ENSANCHE DE VALL...          social   \n",
       "\n",
       "      Coordenada-X  Coordenada-Y  POTENCIA KWP   AÑO    MES     CÁLCULO   \n",
       "0         436689.0     4468938.0          10.0  2019  enero  Estimación  \\\n",
       "1         443153.0     4471330.0           7.0  2019  enero  Estimación   \n",
       "2         440849.0     4466524.0           5.0  2019  enero  Estimación   \n",
       "3         439102.0     4478967.0           2.5  2019  enero  Estimación   \n",
       "4         441779.0     4473428.0           5.0  2019  enero  Estimación   \n",
       "...            ...           ...           ...   ...    ...         ...   \n",
       "4968      444781.7     4481144.5          99.4  2023  marzo    Medición   \n",
       "4969      439688.2     4474009.8           8.0  2023  marzo  Estimación   \n",
       "4970      445135.7     4475423.6           2.0  2023  marzo  Estimación   \n",
       "4971      443704.6     4471139.1          10.0  2023  marzo  Estimación   \n",
       "4972      449246.7     4468156.3           8.0  2023  marzo  Estimación   \n",
       "\n",
       "      ENERGÍA PRODUCIDA KWh  \n",
       "0               1004.400000  \n",
       "1                703.080000  \n",
       "2                502.200000  \n",
       "3                251.100000  \n",
       "4                502.200000  \n",
       "...                     ...  \n",
       "4968           11249.600586  \n",
       "4969            1330.272000  \n",
       "4970             332.568000  \n",
       "4971            1662.840000  \n",
       "4972            1330.272000  \n",
       "\n",
       "[4973 rows x 9 columns]"
      ]
     },
     "execution_count": 50,
     "metadata": {},
     "output_type": "execute_result"
    }
   ],
   "source": [
    "df_solar_filt = df_placas.dropna().reset_index(drop=True)\n",
    "df_solar_filt"
   ]
  },
  {
   "attachments": {},
   "cell_type": "markdown",
   "metadata": {},
   "source": [
    "### Análisis exploratorio, tratamiento y limpieza de datos\n"
   ]
  },
  {
   "cell_type": "code",
   "execution_count": 29,
   "metadata": {},
   "outputs": [
    {
     "data": {
      "text/html": [
       "<div>\n",
       "<style scoped>\n",
       "    .dataframe tbody tr th:only-of-type {\n",
       "        vertical-align: middle;\n",
       "    }\n",
       "\n",
       "    .dataframe tbody tr th {\n",
       "        vertical-align: top;\n",
       "    }\n",
       "\n",
       "    .dataframe thead th {\n",
       "        text-align: right;\n",
       "    }\n",
       "</style>\n",
       "<table border=\"1\" class=\"dataframe\">\n",
       "  <thead>\n",
       "    <tr style=\"text-align: right;\">\n",
       "      <th></th>\n",
       "      <th>Coordenada-X</th>\n",
       "      <th>Coordenada-Y</th>\n",
       "      <th>POTENCIA KWP</th>\n",
       "      <th>AÑO</th>\n",
       "      <th>ENERGÍA PRODUCIDA KWh</th>\n",
       "    </tr>\n",
       "  </thead>\n",
       "  <tbody>\n",
       "    <tr>\n",
       "      <th>count</th>\n",
       "      <td>4973.000000</td>\n",
       "      <td>4.973000e+03</td>\n",
       "      <td>4973.000000</td>\n",
       "      <td>4973.000000</td>\n",
       "      <td>4973.000000</td>\n",
       "    </tr>\n",
       "    <tr>\n",
       "      <th>mean</th>\n",
       "      <td>442377.760728</td>\n",
       "      <td>4.473926e+06</td>\n",
       "      <td>16.769704</td>\n",
       "      <td>2020.822441</td>\n",
       "      <td>2289.675351</td>\n",
       "    </tr>\n",
       "    <tr>\n",
       "      <th>std</th>\n",
       "      <td>4044.214816</td>\n",
       "      <td>4.593500e+03</td>\n",
       "      <td>16.313828</td>\n",
       "      <td>1.221144</td>\n",
       "      <td>2417.932513</td>\n",
       "    </tr>\n",
       "    <tr>\n",
       "      <th>min</th>\n",
       "      <td>433934.000000</td>\n",
       "      <td>4.465148e+06</td>\n",
       "      <td>2.000000</td>\n",
       "      <td>2019.000000</td>\n",
       "      <td>-13.200000</td>\n",
       "    </tr>\n",
       "    <tr>\n",
       "      <th>25%</th>\n",
       "      <td>439603.000000</td>\n",
       "      <td>4.470233e+06</td>\n",
       "      <td>7.000000</td>\n",
       "      <td>2020.000000</td>\n",
       "      <td>885.600000</td>\n",
       "    </tr>\n",
       "    <tr>\n",
       "      <th>50%</th>\n",
       "      <td>442243.000000</td>\n",
       "      <td>4.473366e+06</td>\n",
       "      <td>12.000000</td>\n",
       "      <td>2021.000000</td>\n",
       "      <td>1506.111750</td>\n",
       "    </tr>\n",
       "    <tr>\n",
       "      <th>75%</th>\n",
       "      <td>445584.000000</td>\n",
       "      <td>4.476508e+06</td>\n",
       "      <td>20.000000</td>\n",
       "      <td>2022.000000</td>\n",
       "      <td>2855.250000</td>\n",
       "    </tr>\n",
       "    <tr>\n",
       "      <th>max</th>\n",
       "      <td>451431.000000</td>\n",
       "      <td>4.484225e+06</td>\n",
       "      <td>100.000000</td>\n",
       "      <td>2023.000000</td>\n",
       "      <td>23800.000000</td>\n",
       "    </tr>\n",
       "  </tbody>\n",
       "</table>\n",
       "</div>"
      ],
      "text/plain": [
       "        Coordenada-X  Coordenada-Y  POTENCIA KWP          AÑO   \n",
       "count    4973.000000  4.973000e+03   4973.000000  4973.000000  \\\n",
       "mean   442377.760728  4.473926e+06     16.769704  2020.822441   \n",
       "std      4044.214816  4.593500e+03     16.313828     1.221144   \n",
       "min    433934.000000  4.465148e+06      2.000000  2019.000000   \n",
       "25%    439603.000000  4.470233e+06      7.000000  2020.000000   \n",
       "50%    442243.000000  4.473366e+06     12.000000  2021.000000   \n",
       "75%    445584.000000  4.476508e+06     20.000000  2022.000000   \n",
       "max    451431.000000  4.484225e+06    100.000000  2023.000000   \n",
       "\n",
       "       ENERGÍA PRODUCIDA KWh  \n",
       "count            4973.000000  \n",
       "mean             2289.675351  \n",
       "std              2417.932513  \n",
       "min               -13.200000  \n",
       "25%               885.600000  \n",
       "50%              1506.111750  \n",
       "75%              2855.250000  \n",
       "max             23800.000000  "
      ]
     },
     "execution_count": 29,
     "metadata": {},
     "output_type": "execute_result"
    }
   ],
   "source": [
    "df_solar_filt.describe()\n"
   ]
  },
  {
   "cell_type": "code",
   "execution_count": 30,
   "metadata": {},
   "outputs": [
    {
     "data": {
      "text/plain": [
       "CENTRO                    object\n",
       "USO                       object\n",
       "Coordenada-X             float64\n",
       "Coordenada-Y             float64\n",
       "POTENCIA KWP             float64\n",
       "AÑO                        int64\n",
       "MES                       object\n",
       "CÁLCULO                   object\n",
       "ENERGÍA PRODUCIDA KWh    float64\n",
       "dtype: object"
      ]
     },
     "execution_count": 30,
     "metadata": {},
     "output_type": "execute_result"
    }
   ],
   "source": [
    "df_solar_filt.dtypes"
   ]
  },
  {
   "cell_type": "code",
   "execution_count": 31,
   "metadata": {},
   "outputs": [
    {
     "data": {
      "text/plain": [
       "CENTRO     object\n",
       "USO        object\n",
       "MES        object\n",
       "CÁLCULO    object\n",
       "dtype: object"
      ]
     },
     "execution_count": 31,
     "metadata": {},
     "output_type": "execute_result"
    }
   ],
   "source": [
    "df_solar_filt.dtypes[df_solar_filt.dtypes == \"object\"]"
   ]
  },
  {
   "cell_type": "code",
   "execution_count": 51,
   "metadata": {},
   "outputs": [
    {
     "data": {
      "text/plain": [
       "CENTRO     object\n",
       "USO        object\n",
       "MES        object\n",
       "CÁLCULO    object\n",
       "dtype: object"
      ]
     },
     "execution_count": 51,
     "metadata": {},
     "output_type": "execute_result"
    }
   ],
   "source": [
    "df_solar_filt.dtypes[df_solar_filt.dtypes == \"object\"]"
   ]
  },
  {
   "cell_type": "code",
   "execution_count": 33,
   "metadata": {},
   "outputs": [
    {
     "data": {
      "text/plain": [
       "USO\n",
       "cultural          1028\n",
       "social             865\n",
       "deportivo          829\n",
       "educativo          784\n",
       "administrativo     542\n",
       "mixto              291\n",
       "seguridad          266\n",
       "medioambiental     204\n",
       "sanitario          116\n",
       "almacén             39\n",
       "deportivo            9\n",
       "Name: count, dtype: int64"
      ]
     },
     "execution_count": 33,
     "metadata": {},
     "output_type": "execute_result"
    }
   ],
   "source": [
    "df_solar_filt['USO'].value_counts()"
   ]
  },
  {
   "cell_type": "code",
   "execution_count": 34,
   "metadata": {},
   "outputs": [],
   "source": [
    "# columnas a eliminar por ser informativas\n",
    "columnas_drop = [\"CENTRO\", \"USO\", \"AÑO\", \"MES\", \"CÁLCULO\"]"
   ]
  },
  {
   "cell_type": "code",
   "execution_count": 35,
   "metadata": {},
   "outputs": [
    {
     "name": "stdout",
     "output_type": "stream",
     "text": [
      "Tamaño del tablón filtrado:  (4973, 9)\n",
      "Tamaño del tablón nuevo:  (4973, 4)\n"
     ]
    }
   ],
   "source": [
    "df_solar_filt2 = df_solar_filt.drop(columns = columnas_drop)\n",
    "print(\"Tamaño del tablón filtrado: \", df_solar_filt.shape)\n",
    "print(\"Tamaño del tablón nuevo: \", df_solar_filt2.shape)"
   ]
  },
  {
   "cell_type": "code",
   "execution_count": 36,
   "metadata": {},
   "outputs": [
    {
     "data": {
      "text/plain": [
       "float64    4\n",
       "Name: count, dtype: int64"
      ]
     },
     "execution_count": 36,
     "metadata": {},
     "output_type": "execute_result"
    }
   ],
   "source": [
    "df_solar_filt2.dtypes.value_counts()"
   ]
  },
  {
   "attachments": {},
   "cell_type": "markdown",
   "metadata": {},
   "source": [
    "### Reducción de variables\n",
    "Importancia de variables"
   ]
  },
  {
   "cell_type": "code",
   "execution_count": 53,
   "metadata": {},
   "outputs": [
    {
     "name": "stdout",
     "output_type": "stream",
     "text": [
      "ENERGÍA PRODUCIDA KWh\n",
      "['Coordenada-X', 'Coordenada-Y', 'POTENCIA KWP']\n"
     ]
    }
   ],
   "source": [
    "# generar la lista de features y la variable target\n",
    "target = 'ENERGÍA PRODUCIDA KWh'\n",
    "features = [x for x in df_solar_filt2.columns if x != target]\n",
    "\n",
    "print(target)\n",
    "print(features)"
   ]
  },
  {
   "cell_type": "code",
   "execution_count": 56,
   "metadata": {},
   "outputs": [
    {
     "data": {
      "text/plain": [
       "0        1004.400000\n",
       "1         703.080000\n",
       "2         502.200000\n",
       "3         251.100000\n",
       "4         502.200000\n",
       "            ...     \n",
       "4968    11249.600586\n",
       "4969     1330.272000\n",
       "4970      332.568000\n",
       "4971     1662.840000\n",
       "4972     1330.272000\n",
       "Name: ENERGÍA PRODUCIDA KWh, Length: 4973, dtype: float64"
      ]
     },
     "execution_count": 56,
     "metadata": {},
     "output_type": "execute_result"
    }
   ],
   "source": [
    "df_solar_filt2[target]"
   ]
  },
  {
   "cell_type": "code",
   "execution_count": 57,
   "metadata": {},
   "outputs": [
    {
     "data": {
      "text/html": [
       "<style>#sk-container-id-1 {color: black;background-color: white;}#sk-container-id-1 pre{padding: 0;}#sk-container-id-1 div.sk-toggleable {background-color: white;}#sk-container-id-1 label.sk-toggleable__label {cursor: pointer;display: block;width: 100%;margin-bottom: 0;padding: 0.3em;box-sizing: border-box;text-align: center;}#sk-container-id-1 label.sk-toggleable__label-arrow:before {content: \"▸\";float: left;margin-right: 0.25em;color: #696969;}#sk-container-id-1 label.sk-toggleable__label-arrow:hover:before {color: black;}#sk-container-id-1 div.sk-estimator:hover label.sk-toggleable__label-arrow:before {color: black;}#sk-container-id-1 div.sk-toggleable__content {max-height: 0;max-width: 0;overflow: hidden;text-align: left;background-color: #f0f8ff;}#sk-container-id-1 div.sk-toggleable__content pre {margin: 0.2em;color: black;border-radius: 0.25em;background-color: #f0f8ff;}#sk-container-id-1 input.sk-toggleable__control:checked~div.sk-toggleable__content {max-height: 200px;max-width: 100%;overflow: auto;}#sk-container-id-1 input.sk-toggleable__control:checked~label.sk-toggleable__label-arrow:before {content: \"▾\";}#sk-container-id-1 div.sk-estimator input.sk-toggleable__control:checked~label.sk-toggleable__label {background-color: #d4ebff;}#sk-container-id-1 div.sk-label input.sk-toggleable__control:checked~label.sk-toggleable__label {background-color: #d4ebff;}#sk-container-id-1 input.sk-hidden--visually {border: 0;clip: rect(1px 1px 1px 1px);clip: rect(1px, 1px, 1px, 1px);height: 1px;margin: -1px;overflow: hidden;padding: 0;position: absolute;width: 1px;}#sk-container-id-1 div.sk-estimator {font-family: monospace;background-color: #f0f8ff;border: 1px dotted black;border-radius: 0.25em;box-sizing: border-box;margin-bottom: 0.5em;}#sk-container-id-1 div.sk-estimator:hover {background-color: #d4ebff;}#sk-container-id-1 div.sk-parallel-item::after {content: \"\";width: 100%;border-bottom: 1px solid gray;flex-grow: 1;}#sk-container-id-1 div.sk-label:hover label.sk-toggleable__label {background-color: #d4ebff;}#sk-container-id-1 div.sk-serial::before {content: \"\";position: absolute;border-left: 1px solid gray;box-sizing: border-box;top: 0;bottom: 0;left: 50%;z-index: 0;}#sk-container-id-1 div.sk-serial {display: flex;flex-direction: column;align-items: center;background-color: white;padding-right: 0.2em;padding-left: 0.2em;position: relative;}#sk-container-id-1 div.sk-item {position: relative;z-index: 1;}#sk-container-id-1 div.sk-parallel {display: flex;align-items: stretch;justify-content: center;background-color: white;position: relative;}#sk-container-id-1 div.sk-item::before, #sk-container-id-1 div.sk-parallel-item::before {content: \"\";position: absolute;border-left: 1px solid gray;box-sizing: border-box;top: 0;bottom: 0;left: 50%;z-index: -1;}#sk-container-id-1 div.sk-parallel-item {display: flex;flex-direction: column;z-index: 1;position: relative;background-color: white;}#sk-container-id-1 div.sk-parallel-item:first-child::after {align-self: flex-end;width: 50%;}#sk-container-id-1 div.sk-parallel-item:last-child::after {align-self: flex-start;width: 50%;}#sk-container-id-1 div.sk-parallel-item:only-child::after {width: 0;}#sk-container-id-1 div.sk-dashed-wrapped {border: 1px dashed gray;margin: 0 0.4em 0.5em 0.4em;box-sizing: border-box;padding-bottom: 0.4em;background-color: white;}#sk-container-id-1 div.sk-label label {font-family: monospace;font-weight: bold;display: inline-block;line-height: 1.2em;}#sk-container-id-1 div.sk-label-container {text-align: center;}#sk-container-id-1 div.sk-container {/* jupyter's `normalize.less` sets `[hidden] { display: none; }` but bootstrap.min.css set `[hidden] { display: none !important; }` so we also need the `!important` here to be able to override the default hidden behavior on the sphinx rendered scikit-learn.org. See: https://github.com/scikit-learn/scikit-learn/issues/21755 */display: inline-block !important;position: relative;}#sk-container-id-1 div.sk-text-repr-fallback {display: none;}</style><div id=\"sk-container-id-1\" class=\"sk-top-container\"><div class=\"sk-text-repr-fallback\"><pre>DecisionTreeRegressor(max_depth=13, random_state=42)</pre><b>In a Jupyter environment, please rerun this cell to show the HTML representation or trust the notebook. <br />On GitHub, the HTML representation is unable to render, please try loading this page with nbviewer.org.</b></div><div class=\"sk-container\" hidden><div class=\"sk-item\"><div class=\"sk-estimator sk-toggleable\"><input class=\"sk-toggleable__control sk-hidden--visually\" id=\"sk-estimator-id-1\" type=\"checkbox\" checked><label for=\"sk-estimator-id-1\" class=\"sk-toggleable__label sk-toggleable__label-arrow\">DecisionTreeRegressor</label><div class=\"sk-toggleable__content\"><pre>DecisionTreeRegressor(max_depth=13, random_state=42)</pre></div></div></div></div></div>"
      ],
      "text/plain": [
       "DecisionTreeRegressor(max_depth=13, random_state=42)"
      ]
     },
     "execution_count": 57,
     "metadata": {},
     "output_type": "execute_result"
    }
   ],
   "source": [
    "# Importar el algoritmo de árboles de decisión\n",
    "from sklearn.tree import DecisionTreeRegressor\n",
    "\n",
    "# Asignar el algortimo e indicar la profundidad máxima del árbol (con un número rotandamente grande para sobreajustar)\n",
    "arbol_importancia = DecisionTreeRegressor(max_depth=len(features)+10, random_state=42)\n",
    "\n",
    "# Entrenar un árbol con todo el conjunto de datos\n",
    "arbol_importancia.fit(X=df_solar_filt2[features], y=df_solar_filt2[target])"
   ]
  },
  {
   "cell_type": "code",
   "execution_count": 60,
   "metadata": {},
   "outputs": [
    {
     "name": "stdout",
     "output_type": "stream",
     "text": [
      "Mean Absolute Error: 685.8527268178002\n",
      "Mean Absolute Percentage Error: 6.107511375472684e+17\n",
      "Mean Squared Error: 1324998.7394542568\n",
      "Root Mean Squared Error: 1151.085895775922\n",
      "R^2 coefficient of determination: 0.7733193474291218\n"
     ]
    }
   ],
   "source": [
    "# Comprobamos que se obtiene un R^2 muy alto. Lo desesable es que sea 1.\n",
    "y_pred_arbol = arbol_importancia.predict(X=df_solar_filt2[features])\n",
    "\n",
    "from sklearn.metrics import mean_absolute_error\n",
    "from sklearn.metrics import mean_absolute_percentage_error\n",
    "from sklearn.metrics import mean_squared_error\n",
    "from sklearn.metrics import r2_score\n",
    "\n",
    "# Métricas para evaluar la calidad del modelo\n",
    "print('Mean Absolute Error:', mean_absolute_error(df_solar_filt2[target], y_pred_arbol))\n",
    "print('Mean Absolute Percentage Error:', mean_absolute_percentage_error(df_solar_filt2[target], y_pred_arbol)*100)\n",
    "print('Mean Squared Error:', mean_squared_error(df_solar_filt2[target], y_pred_arbol))\n",
    "print('Root Mean Squared Error:', np.sqrt(mean_squared_error(df_solar_filt2[target], y_pred_arbol)))\n",
    "print('R^2 coefficient of determination:', r2_score(df_solar_filt2[target], y_pred_arbol))"
   ]
  },
  {
   "cell_type": "code",
   "execution_count": 61,
   "metadata": {},
   "outputs": [
    {
     "data": {
      "text/plain": [
       "array([0.03064322, 0.01503193, 0.95432485])"
      ]
     },
     "execution_count": 61,
     "metadata": {},
     "output_type": "execute_result"
    }
   ],
   "source": [
    "# Importancias de cada variable en el árbol ajustado (Gini importance)\n",
    "arbol_importancia.feature_importances_"
   ]
  },
  {
   "cell_type": "code",
   "execution_count": 62,
   "metadata": {},
   "outputs": [
    {
     "data": {
      "text/html": [
       "<div>\n",
       "<style scoped>\n",
       "    .dataframe tbody tr th:only-of-type {\n",
       "        vertical-align: middle;\n",
       "    }\n",
       "\n",
       "    .dataframe tbody tr th {\n",
       "        vertical-align: top;\n",
       "    }\n",
       "\n",
       "    .dataframe thead th {\n",
       "        text-align: right;\n",
       "    }\n",
       "</style>\n",
       "<table border=\"1\" class=\"dataframe\">\n",
       "  <thead>\n",
       "    <tr style=\"text-align: right;\">\n",
       "      <th></th>\n",
       "      <th>Importancia</th>\n",
       "    </tr>\n",
       "  </thead>\n",
       "  <tbody>\n",
       "    <tr>\n",
       "      <th>POTENCIA KWP</th>\n",
       "      <td>0.954325</td>\n",
       "    </tr>\n",
       "    <tr>\n",
       "      <th>Coordenada-X</th>\n",
       "      <td>0.030643</td>\n",
       "    </tr>\n",
       "    <tr>\n",
       "      <th>Coordenada-Y</th>\n",
       "      <td>0.015032</td>\n",
       "    </tr>\n",
       "  </tbody>\n",
       "</table>\n",
       "</div>"
      ],
      "text/plain": [
       "              Importancia\n",
       "POTENCIA KWP     0.954325\n",
       "Coordenada-X     0.030643\n",
       "Coordenada-Y     0.015032"
      ]
     },
     "execution_count": 62,
     "metadata": {},
     "output_type": "execute_result"
    }
   ],
   "source": [
    "# Creamos un DataFrame con los datos de importancia\n",
    "importancia = pd.DataFrame(arbol_importancia.feature_importances_, index=features, columns=[\"Importancia\"])\n",
    "\n",
    "# Ordenamos los datos\n",
    "importancia.sort_values(by=importancia.columns[0], ascending=False, inplace=True)\n",
    "importancia"
   ]
  },
  {
   "cell_type": "code",
   "execution_count": 63,
   "metadata": {},
   "outputs": [
    {
     "data": {
      "text/html": [
       "<div>\n",
       "<style scoped>\n",
       "    .dataframe tbody tr th:only-of-type {\n",
       "        vertical-align: middle;\n",
       "    }\n",
       "\n",
       "    .dataframe tbody tr th {\n",
       "        vertical-align: top;\n",
       "    }\n",
       "\n",
       "    .dataframe thead th {\n",
       "        text-align: right;\n",
       "    }\n",
       "</style>\n",
       "<table border=\"1\" class=\"dataframe\">\n",
       "  <thead>\n",
       "    <tr style=\"text-align: right;\">\n",
       "      <th></th>\n",
       "      <th>Importancia</th>\n",
       "      <th>imp_acum</th>\n",
       "    </tr>\n",
       "  </thead>\n",
       "  <tbody>\n",
       "    <tr>\n",
       "      <th>POTENCIA KWP</th>\n",
       "      <td>0.954325</td>\n",
       "      <td>0.954325</td>\n",
       "    </tr>\n",
       "    <tr>\n",
       "      <th>Coordenada-X</th>\n",
       "      <td>0.030643</td>\n",
       "      <td>0.984968</td>\n",
       "    </tr>\n",
       "    <tr>\n",
       "      <th>Coordenada-Y</th>\n",
       "      <td>0.015032</td>\n",
       "      <td>1.000000</td>\n",
       "    </tr>\n",
       "  </tbody>\n",
       "</table>\n",
       "</div>"
      ],
      "text/plain": [
       "              Importancia  imp_acum\n",
       "POTENCIA KWP     0.954325  0.954325\n",
       "Coordenada-X     0.030643  0.984968\n",
       "Coordenada-Y     0.015032  1.000000"
      ]
     },
     "execution_count": 63,
     "metadata": {},
     "output_type": "execute_result"
    }
   ],
   "source": [
    "importancia[\"imp_acum\"] = importancia[\"Importancia\"].cumsum()\n",
    "importancia"
   ]
  },
  {
   "cell_type": "code",
   "execution_count": 65,
   "metadata": {},
   "outputs": [
    {
     "data": {
      "text/html": [
       "<div>\n",
       "<style scoped>\n",
       "    .dataframe tbody tr th:only-of-type {\n",
       "        vertical-align: middle;\n",
       "    }\n",
       "\n",
       "    .dataframe tbody tr th {\n",
       "        vertical-align: top;\n",
       "    }\n",
       "\n",
       "    .dataframe thead th {\n",
       "        text-align: right;\n",
       "    }\n",
       "</style>\n",
       "<table border=\"1\" class=\"dataframe\">\n",
       "  <thead>\n",
       "    <tr style=\"text-align: right;\">\n",
       "      <th></th>\n",
       "      <th>Importancia</th>\n",
       "      <th>imp_acum</th>\n",
       "    </tr>\n",
       "  </thead>\n",
       "  <tbody>\n",
       "  </tbody>\n",
       "</table>\n",
       "</div>"
      ],
      "text/plain": [
       "Empty DataFrame\n",
       "Columns: [Importancia, imp_acum]\n",
       "Index: []"
      ]
     },
     "execution_count": 65,
     "metadata": {},
     "output_type": "execute_result"
    }
   ],
   "source": [
    "# Conjunto de variables más importantes\n",
    "importancia.loc[importancia['imp_acum']<=0.90]"
   ]
  },
  {
   "cell_type": "code",
   "execution_count": null,
   "metadata": {},
   "outputs": [],
   "source": [
    "variables = importancia.loc[importancia['imp_acum']>0.90].index.to_list()\n",
    "print(variables)"
   ]
  },
  {
   "attachments": {},
   "cell_type": "markdown",
   "metadata": {},
   "source": [
    "Todas ls variables tienen importancia, no eliminamos ninguna."
   ]
  },
  {
   "attachments": {},
   "cell_type": "markdown",
   "metadata": {},
   "source": [
    "### Panteamiento del ejercicio de clasificación"
   ]
  },
  {
   "cell_type": "code",
   "execution_count": 66,
   "metadata": {},
   "outputs": [],
   "source": [
    "df_potencia = df_solar_filt2.copy()"
   ]
  },
  {
   "cell_type": "code",
   "execution_count": 67,
   "metadata": {},
   "outputs": [
    {
     "data": {
      "text/html": [
       "<div>\n",
       "<style scoped>\n",
       "    .dataframe tbody tr th:only-of-type {\n",
       "        vertical-align: middle;\n",
       "    }\n",
       "\n",
       "    .dataframe tbody tr th {\n",
       "        vertical-align: top;\n",
       "    }\n",
       "\n",
       "    .dataframe thead th {\n",
       "        text-align: right;\n",
       "    }\n",
       "</style>\n",
       "<table border=\"1\" class=\"dataframe\">\n",
       "  <thead>\n",
       "    <tr style=\"text-align: right;\">\n",
       "      <th></th>\n",
       "      <th>Coordenada-X</th>\n",
       "      <th>Coordenada-Y</th>\n",
       "      <th>ENERGÍA PRODUCIDA KWh</th>\n",
       "      <th>Escenario</th>\n",
       "    </tr>\n",
       "  </thead>\n",
       "  <tbody>\n",
       "    <tr>\n",
       "      <th>0</th>\n",
       "      <td>436689.0</td>\n",
       "      <td>4468938.0</td>\n",
       "      <td>1004.400000</td>\n",
       "      <td>0</td>\n",
       "    </tr>\n",
       "    <tr>\n",
       "      <th>1</th>\n",
       "      <td>443153.0</td>\n",
       "      <td>4471330.0</td>\n",
       "      <td>703.080000</td>\n",
       "      <td>0</td>\n",
       "    </tr>\n",
       "    <tr>\n",
       "      <th>2</th>\n",
       "      <td>440849.0</td>\n",
       "      <td>4466524.0</td>\n",
       "      <td>502.200000</td>\n",
       "      <td>0</td>\n",
       "    </tr>\n",
       "    <tr>\n",
       "      <th>3</th>\n",
       "      <td>439102.0</td>\n",
       "      <td>4478967.0</td>\n",
       "      <td>251.100000</td>\n",
       "      <td>0</td>\n",
       "    </tr>\n",
       "    <tr>\n",
       "      <th>4</th>\n",
       "      <td>441779.0</td>\n",
       "      <td>4473428.0</td>\n",
       "      <td>502.200000</td>\n",
       "      <td>0</td>\n",
       "    </tr>\n",
       "    <tr>\n",
       "      <th>...</th>\n",
       "      <td>...</td>\n",
       "      <td>...</td>\n",
       "      <td>...</td>\n",
       "      <td>...</td>\n",
       "    </tr>\n",
       "    <tr>\n",
       "      <th>4968</th>\n",
       "      <td>444781.7</td>\n",
       "      <td>4481144.5</td>\n",
       "      <td>11249.600586</td>\n",
       "      <td>0</td>\n",
       "    </tr>\n",
       "    <tr>\n",
       "      <th>4969</th>\n",
       "      <td>439688.2</td>\n",
       "      <td>4474009.8</td>\n",
       "      <td>1330.272000</td>\n",
       "      <td>0</td>\n",
       "    </tr>\n",
       "    <tr>\n",
       "      <th>4970</th>\n",
       "      <td>445135.7</td>\n",
       "      <td>4475423.6</td>\n",
       "      <td>332.568000</td>\n",
       "      <td>0</td>\n",
       "    </tr>\n",
       "    <tr>\n",
       "      <th>4971</th>\n",
       "      <td>443704.6</td>\n",
       "      <td>4471139.1</td>\n",
       "      <td>1662.840000</td>\n",
       "      <td>0</td>\n",
       "    </tr>\n",
       "    <tr>\n",
       "      <th>4972</th>\n",
       "      <td>449246.7</td>\n",
       "      <td>4468156.3</td>\n",
       "      <td>1330.272000</td>\n",
       "      <td>0</td>\n",
       "    </tr>\n",
       "  </tbody>\n",
       "</table>\n",
       "<p>4973 rows × 4 columns</p>\n",
       "</div>"
      ],
      "text/plain": [
       "      Coordenada-X  Coordenada-Y  ENERGÍA PRODUCIDA KWh  Escenario\n",
       "0         436689.0     4468938.0            1004.400000          0\n",
       "1         443153.0     4471330.0             703.080000          0\n",
       "2         440849.0     4466524.0             502.200000          0\n",
       "3         439102.0     4478967.0             251.100000          0\n",
       "4         441779.0     4473428.0             502.200000          0\n",
       "...            ...           ...                    ...        ...\n",
       "4968      444781.7     4481144.5           11249.600586          0\n",
       "4969      439688.2     4474009.8            1330.272000          0\n",
       "4970      445135.7     4475423.6             332.568000          0\n",
       "4971      443704.6     4471139.1            1662.840000          0\n",
       "4972      449246.7     4468156.3            1330.272000          0\n",
       "\n",
       "[4973 rows x 4 columns]"
      ]
     },
     "execution_count": 67,
     "metadata": {},
     "output_type": "execute_result"
    }
   ],
   "source": [
    "df_potencia[\"Escenario\"] = np.where(df_potencia['POTENCIA KWP'].quantile(0.33),0,1)\n",
    "df_potencia.drop(['POTENCIA KWP'], axis = 'columns', inplace = True)\n",
    "df_potencia"
   ]
  }
 ],
 "metadata": {
  "kernelspec": {
   "display_name": "Python 3",
   "language": "python",
   "name": "python3"
  },
  "language_info": {
   "codemirror_mode": {
    "name": "ipython",
    "version": 3
   },
   "file_extension": ".py",
   "mimetype": "text/x-python",
   "name": "python",
   "nbconvert_exporter": "python",
   "pygments_lexer": "ipython3",
   "version": "3.10.11"
  },
  "orig_nbformat": 4
 },
 "nbformat": 4,
 "nbformat_minor": 2
}
