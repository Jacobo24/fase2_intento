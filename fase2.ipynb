{
 "cells": [
  {
   "cell_type": "code",
   "execution_count": 1,
   "metadata": {},
   "outputs": [],
   "source": [
    "import pandas as pd\n",
    "import matplotlib.pyplot as plt\n",
    "import numpy as np"
   ]
  },
  {
   "cell_type": "code",
   "execution_count": 2,
   "metadata": {},
   "outputs": [],
   "source": [
    "from matplotlib.pyplot import rcParams\n",
    "\n",
    "rcParams['figure.figsize'] = 15, 10\n",
    "rcParams[\"font.weight\"] = \"bold\"\n",
    "rcParams[\"axes.labelweight\"] = \"bold\"\n",
    "rcParams[\"font.size\"] = 12"
   ]
  },
  {
   "cell_type": "code",
   "execution_count": 3,
   "metadata": {},
   "outputs": [
    {
     "data": {
      "text/html": [
       "<div>\n",
       "<style scoped>\n",
       "    .dataframe tbody tr th:only-of-type {\n",
       "        vertical-align: middle;\n",
       "    }\n",
       "\n",
       "    .dataframe tbody tr th {\n",
       "        vertical-align: top;\n",
       "    }\n",
       "\n",
       "    .dataframe thead th {\n",
       "        text-align: right;\n",
       "    }\n",
       "</style>\n",
       "<table border=\"1\" class=\"dataframe\">\n",
       "  <thead>\n",
       "    <tr style=\"text-align: right;\">\n",
       "      <th></th>\n",
       "      <th>CENTRO</th>\n",
       "      <th>USO</th>\n",
       "      <th>Coordenada-X</th>\n",
       "      <th>Coordenada-Y</th>\n",
       "      <th>Latitud</th>\n",
       "      <th>Longitud</th>\n",
       "      <th>POTENCIA KWP</th>\n",
       "      <th>AÑO</th>\n",
       "      <th>MES</th>\n",
       "      <th>CÁLCULO</th>\n",
       "      <th>ENERGÍA PRODUCIDA KWh</th>\n",
       "    </tr>\n",
       "  </thead>\n",
       "  <tbody>\n",
       "    <tr>\n",
       "      <th>0</th>\n",
       "      <td>MADRID EMPRENDE</td>\n",
       "      <td>administrativo</td>\n",
       "      <td>436689.0</td>\n",
       "      <td>4468938.0</td>\n",
       "      <td>40.368616</td>\n",
       "      <td>-3.74573026512817</td>\n",
       "      <td>10.0</td>\n",
       "      <td>2019</td>\n",
       "      <td>enero</td>\n",
       "      <td>Estimación</td>\n",
       "      <td>1004.400</td>\n",
       "    </tr>\n",
       "    <tr>\n",
       "      <th>1</th>\n",
       "      <td>MARES MADRID</td>\n",
       "      <td>administrativo</td>\n",
       "      <td>443153.0</td>\n",
       "      <td>4471330.0</td>\n",
       "      <td>40.390628</td>\n",
       "      <td>-3.669802</td>\n",
       "      <td>7.0</td>\n",
       "      <td>2019</td>\n",
       "      <td>enero</td>\n",
       "      <td>Estimación</td>\n",
       "      <td>703.080</td>\n",
       "    </tr>\n",
       "    <tr>\n",
       "      <th>2</th>\n",
       "      <td>NAVE BOETTICHER</td>\n",
       "      <td>administrativo</td>\n",
       "      <td>440849.0</td>\n",
       "      <td>4466524.0</td>\n",
       "      <td>40.347177</td>\n",
       "      <td>-3.696499</td>\n",
       "      <td>5.0</td>\n",
       "      <td>2019</td>\n",
       "      <td>enero</td>\n",
       "      <td>Estimación</td>\n",
       "      <td>502.200</td>\n",
       "    </tr>\n",
       "    <tr>\n",
       "      <th>3</th>\n",
       "      <td>AULA DE LA NATURALEZA DEHESA DE LA VILLA</td>\n",
       "      <td>medioambiental</td>\n",
       "      <td>439102.0</td>\n",
       "      <td>4478967.0</td>\n",
       "      <td>40.459141</td>\n",
       "      <td>-3.718270563679260</td>\n",
       "      <td>2.5</td>\n",
       "      <td>2019</td>\n",
       "      <td>enero</td>\n",
       "      <td>Estimación</td>\n",
       "      <td>251.100</td>\n",
       "    </tr>\n",
       "    <tr>\n",
       "      <th>4</th>\n",
       "      <td>VIVERO MUNICIPAL DE ESTUFAS DEL RETIRO</td>\n",
       "      <td>medioambiental</td>\n",
       "      <td>441779.0</td>\n",
       "      <td>4473428.0</td>\n",
       "      <td>40.409435</td>\n",
       "      <td>-3.6861797800993200</td>\n",
       "      <td>5.0</td>\n",
       "      <td>2019</td>\n",
       "      <td>enero</td>\n",
       "      <td>Estimación</td>\n",
       "      <td>502.200</td>\n",
       "    </tr>\n",
       "    <tr>\n",
       "      <th>...</th>\n",
       "      <td>...</td>\n",
       "      <td>...</td>\n",
       "      <td>...</td>\n",
       "      <td>...</td>\n",
       "      <td>...</td>\n",
       "      <td>...</td>\n",
       "      <td>...</td>\n",
       "      <td>...</td>\n",
       "      <td>...</td>\n",
       "      <td>...</td>\n",
       "      <td>...</td>\n",
       "    </tr>\n",
       "    <tr>\n",
       "      <th>4973</th>\n",
       "      <td>OAIC SACRAMENTO AGENCIA TRIBUTARIA</td>\n",
       "      <td>administrativo</td>\n",
       "      <td>439688.2</td>\n",
       "      <td>4474009.8</td>\n",
       "      <td>40.414526</td>\n",
       "      <td>-3.7108752639004567</td>\n",
       "      <td>8.0</td>\n",
       "      <td>2023</td>\n",
       "      <td>marzo</td>\n",
       "      <td>Estimación</td>\n",
       "      <td>1330.272</td>\n",
       "    </tr>\n",
       "    <tr>\n",
       "      <th>4974</th>\n",
       "      <td>BASE SAMUR 4</td>\n",
       "      <td>sanitario</td>\n",
       "      <td>445135.7</td>\n",
       "      <td>4475423.6</td>\n",
       "      <td>40.427640</td>\n",
       "      <td>-3.6467931482127414</td>\n",
       "      <td>2.0</td>\n",
       "      <td>2023</td>\n",
       "      <td>marzo</td>\n",
       "      <td>Estimación</td>\n",
       "      <td>332.568</td>\n",
       "    </tr>\n",
       "    <tr>\n",
       "      <th>4975</th>\n",
       "      <td>Vivero de la Casa de Campo</td>\n",
       "      <td>medioambiental</td>\n",
       "      <td>438625.6</td>\n",
       "      <td>4474696.0</td>\n",
       "      <td>40.420630</td>\n",
       "      <td>-3.723464689280627</td>\n",
       "      <td>NaN</td>\n",
       "      <td>2023</td>\n",
       "      <td>marzo</td>\n",
       "      <td>Medición</td>\n",
       "      <td>681.000</td>\n",
       "    </tr>\n",
       "    <tr>\n",
       "      <th>4976</th>\n",
       "      <td>CMM SAN DIEGO</td>\n",
       "      <td>social</td>\n",
       "      <td>443704.6</td>\n",
       "      <td>4471139.1</td>\n",
       "      <td>40.388947</td>\n",
       "      <td>-3.6630476297262975</td>\n",
       "      <td>10.0</td>\n",
       "      <td>2023</td>\n",
       "      <td>marzo</td>\n",
       "      <td>Estimación</td>\n",
       "      <td>1662.840</td>\n",
       "    </tr>\n",
       "    <tr>\n",
       "      <th>4977</th>\n",
       "      <td>CSS CENTRO DE DÍA Y ALZHEIMER ENSANCHE DE VALL...</td>\n",
       "      <td>social</td>\n",
       "      <td>449246.7</td>\n",
       "      <td>4468156.3</td>\n",
       "      <td>40.362464</td>\n",
       "      <td>-3.597762173364828</td>\n",
       "      <td>8.0</td>\n",
       "      <td>2023</td>\n",
       "      <td>marzo</td>\n",
       "      <td>Estimación</td>\n",
       "      <td>1330.272</td>\n",
       "    </tr>\n",
       "  </tbody>\n",
       "</table>\n",
       "<p>4978 rows × 11 columns</p>\n",
       "</div>"
      ],
      "text/plain": [
       "                                                 CENTRO             USO   \n",
       "0                                       MADRID EMPRENDE  administrativo  \\\n",
       "1                                          MARES MADRID  administrativo   \n",
       "2                                       NAVE BOETTICHER  administrativo   \n",
       "3              AULA DE LA NATURALEZA DEHESA DE LA VILLA  medioambiental   \n",
       "4                VIVERO MUNICIPAL DE ESTUFAS DEL RETIRO  medioambiental   \n",
       "...                                                 ...             ...   \n",
       "4973                 OAIC SACRAMENTO AGENCIA TRIBUTARIA  administrativo   \n",
       "4974                                       BASE SAMUR 4       sanitario   \n",
       "4975                         Vivero de la Casa de Campo  medioambiental   \n",
       "4976                                      CMM SAN DIEGO          social   \n",
       "4977  CSS CENTRO DE DÍA Y ALZHEIMER ENSANCHE DE VALL...          social   \n",
       "\n",
       "      Coordenada-X  Coordenada-Y    Latitud             Longitud   \n",
       "0         436689.0     4468938.0  40.368616    -3.74573026512817  \\\n",
       "1         443153.0     4471330.0  40.390628            -3.669802   \n",
       "2         440849.0     4466524.0  40.347177            -3.696499   \n",
       "3         439102.0     4478967.0  40.459141   -3.718270563679260   \n",
       "4         441779.0     4473428.0  40.409435  -3.6861797800993200   \n",
       "...            ...           ...        ...                  ...   \n",
       "4973      439688.2     4474009.8  40.414526  -3.7108752639004567   \n",
       "4974      445135.7     4475423.6  40.427640  -3.6467931482127414   \n",
       "4975      438625.6     4474696.0  40.420630   -3.723464689280627   \n",
       "4976      443704.6     4471139.1  40.388947  -3.6630476297262975   \n",
       "4977      449246.7     4468156.3  40.362464   -3.597762173364828   \n",
       "\n",
       "      POTENCIA KWP   AÑO    MES     CÁLCULO  ENERGÍA PRODUCIDA KWh  \n",
       "0             10.0  2019  enero  Estimación               1004.400  \n",
       "1              7.0  2019  enero  Estimación                703.080  \n",
       "2              5.0  2019  enero  Estimación                502.200  \n",
       "3              2.5  2019  enero  Estimación                251.100  \n",
       "4              5.0  2019  enero  Estimación                502.200  \n",
       "...            ...   ...    ...         ...                    ...  \n",
       "4973           8.0  2023  marzo  Estimación               1330.272  \n",
       "4974           2.0  2023  marzo  Estimación                332.568  \n",
       "4975           NaN  2023  marzo    Medición                681.000  \n",
       "4976          10.0  2023  marzo  Estimación               1662.840  \n",
       "4977           8.0  2023  marzo  Estimación               1330.272  \n",
       "\n",
       "[4978 rows x 11 columns]"
      ]
     },
     "execution_count": 3,
     "metadata": {},
     "output_type": "execute_result"
    }
   ],
   "source": [
    "df_placas = pd.read_excel('placas_solares.xlsx')\n",
    "\n",
    "df_placas"
   ]
  },
  {
   "cell_type": "code",
   "execution_count": 4,
   "metadata": {},
   "outputs": [
    {
     "data": {
      "text/plain": [
       "CENTRO                   1\n",
       "USO                      1\n",
       "Coordenada-X             1\n",
       "Coordenada-Y             1\n",
       "Latitud                  1\n",
       "Longitud                 1\n",
       "POTENCIA KWP             3\n",
       "AÑO                      0\n",
       "MES                      0\n",
       "CÁLCULO                  0\n",
       "ENERGÍA PRODUCIDA KWh    0\n",
       "dtype: int64"
      ]
     },
     "execution_count": 4,
     "metadata": {},
     "output_type": "execute_result"
    }
   ],
   "source": [
    "df_placas.isna().sum() # Verificando los valores nulos"
   ]
  },
  {
   "cell_type": "code",
   "execution_count": 5,
   "metadata": {},
   "outputs": [
    {
     "name": "stdout",
     "output_type": "stream",
     "text": [
      "<class 'pandas.core.frame.DataFrame'>\n",
      "RangeIndex: 4978 entries, 0 to 4977\n",
      "Data columns (total 11 columns):\n",
      " #   Column                 Non-Null Count  Dtype  \n",
      "---  ------                 --------------  -----  \n",
      " 0   CENTRO                 4977 non-null   object \n",
      " 1   USO                    4977 non-null   object \n",
      " 2   Coordenada-X           4977 non-null   float64\n",
      " 3   Coordenada-Y           4977 non-null   float64\n",
      " 4   Latitud                4977 non-null   float64\n",
      " 5   Longitud               4977 non-null   object \n",
      " 6   POTENCIA KWP           4975 non-null   float64\n",
      " 7   AÑO                    4978 non-null   int64  \n",
      " 8   MES                    4978 non-null   object \n",
      " 9   CÁLCULO                4978 non-null   object \n",
      " 10  ENERGÍA PRODUCIDA KWh  4978 non-null   float64\n",
      "dtypes: float64(5), int64(1), object(5)\n",
      "memory usage: 427.9+ KB\n"
     ]
    }
   ],
   "source": [
    "df_placas.info()"
   ]
  },
  {
   "cell_type": "code",
   "execution_count": 6,
   "metadata": {},
   "outputs": [
    {
     "data": {
      "text/plain": [
       "0       False\n",
       "1       False\n",
       "2       False\n",
       "3       False\n",
       "4       False\n",
       "        ...  \n",
       "4973    False\n",
       "4974    False\n",
       "4975    False\n",
       "4976    False\n",
       "4977    False\n",
       "Name: MES, Length: 4978, dtype: bool"
      ]
     },
     "execution_count": 6,
     "metadata": {},
     "output_type": "execute_result"
    }
   ],
   "source": [
    "df_placas[\"MES\"].isna()"
   ]
  },
  {
   "cell_type": "code",
   "execution_count": 7,
   "metadata": {},
   "outputs": [
    {
     "data": {
      "text/plain": [
       "0"
      ]
     },
     "execution_count": 7,
     "metadata": {},
     "output_type": "execute_result"
    }
   ],
   "source": [
    "df_placas[\"MES\"].isna().sum()"
   ]
  },
  {
   "cell_type": "code",
   "execution_count": 8,
   "metadata": {},
   "outputs": [
    {
     "data": {
      "text/plain": [
       "Series([], Name: MES, dtype: object)"
      ]
     },
     "execution_count": 8,
     "metadata": {},
     "output_type": "execute_result"
    }
   ],
   "source": [
    "df_placas[\"MES\"][df_placas[\"MES\"].isna()]"
   ]
  },
  {
   "cell_type": "code",
   "execution_count": 9,
   "metadata": {},
   "outputs": [
    {
     "data": {
      "text/html": [
       "<div>\n",
       "<style scoped>\n",
       "    .dataframe tbody tr th:only-of-type {\n",
       "        vertical-align: middle;\n",
       "    }\n",
       "\n",
       "    .dataframe tbody tr th {\n",
       "        vertical-align: top;\n",
       "    }\n",
       "\n",
       "    .dataframe thead th {\n",
       "        text-align: right;\n",
       "    }\n",
       "</style>\n",
       "<table border=\"1\" class=\"dataframe\">\n",
       "  <thead>\n",
       "    <tr style=\"text-align: right;\">\n",
       "      <th></th>\n",
       "      <th>CENTRO</th>\n",
       "      <th>USO</th>\n",
       "      <th>AÑO</th>\n",
       "      <th>MES</th>\n",
       "      <th>CÁLCULO</th>\n",
       "    </tr>\n",
       "  </thead>\n",
       "  <tbody>\n",
       "    <tr>\n",
       "      <th>4</th>\n",
       "      <td>VIVERO MUNICIPAL DE ESTUFAS DEL RETIRO</td>\n",
       "      <td>medioambiental</td>\n",
       "      <td>2019</td>\n",
       "      <td>enero</td>\n",
       "      <td>Estimación</td>\n",
       "    </tr>\n",
       "    <tr>\n",
       "      <th>5</th>\n",
       "      <td>VIVERO MUNICIPAL DE MIGAS CALIENTES</td>\n",
       "      <td>medioambiental</td>\n",
       "      <td>2019</td>\n",
       "      <td>enero</td>\n",
       "      <td>Estimación</td>\n",
       "    </tr>\n",
       "    <tr>\n",
       "      <th>6</th>\n",
       "      <td>ROSALEDA DEL PARQUE DEL OESTE</td>\n",
       "      <td>medioambiental</td>\n",
       "      <td>2019</td>\n",
       "      <td>enero</td>\n",
       "      <td>Estimación</td>\n",
       "    </tr>\n",
       "    <tr>\n",
       "      <th>7</th>\n",
       "      <td>UID VILLA DE VALLECAS</td>\n",
       "      <td>seguridad</td>\n",
       "      <td>2019</td>\n",
       "      <td>enero</td>\n",
       "      <td>Estimación</td>\n",
       "    </tr>\n",
       "    <tr>\n",
       "      <th>8</th>\n",
       "      <td>BASE 14 SAMUR</td>\n",
       "      <td>sanitario</td>\n",
       "      <td>2019</td>\n",
       "      <td>enero</td>\n",
       "      <td>Estimación</td>\n",
       "    </tr>\n",
       "    <tr>\n",
       "      <th>...</th>\n",
       "      <td>...</td>\n",
       "      <td>...</td>\n",
       "      <td>...</td>\n",
       "      <td>...</td>\n",
       "      <td>...</td>\n",
       "    </tr>\n",
       "    <tr>\n",
       "      <th>3295</th>\n",
       "      <td>UID VILLA DE VALLECAS</td>\n",
       "      <td>seguridad</td>\n",
       "      <td>2022</td>\n",
       "      <td>enero</td>\n",
       "      <td>Estimación</td>\n",
       "    </tr>\n",
       "    <tr>\n",
       "      <th>3296</th>\n",
       "      <td>BASE 14 SAMUR</td>\n",
       "      <td>sanitario</td>\n",
       "      <td>2022</td>\n",
       "      <td>enero</td>\n",
       "      <td>Estimación</td>\n",
       "    </tr>\n",
       "    <tr>\n",
       "      <th>3297</th>\n",
       "      <td>CENTRO PROTECCIÓN ANIMAL</td>\n",
       "      <td>sanitario</td>\n",
       "      <td>2022</td>\n",
       "      <td>enero</td>\n",
       "      <td>Estimación</td>\n",
       "    </tr>\n",
       "    <tr>\n",
       "      <th>3298</th>\n",
       "      <td>PARQUE BOMBEROS Nº 6</td>\n",
       "      <td>seguridad</td>\n",
       "      <td>2022</td>\n",
       "      <td>enero</td>\n",
       "      <td>Estimación</td>\n",
       "    </tr>\n",
       "    <tr>\n",
       "      <th>3299</th>\n",
       "      <td>PARQUE DE BOMBEROS Nº 7</td>\n",
       "      <td>seguridad</td>\n",
       "      <td>2022</td>\n",
       "      <td>enero</td>\n",
       "      <td>Estimación</td>\n",
       "    </tr>\n",
       "  </tbody>\n",
       "</table>\n",
       "<p>3296 rows × 5 columns</p>\n",
       "</div>"
      ],
      "text/plain": [
       "                                      CENTRO             USO   AÑO    MES   \n",
       "4     VIVERO MUNICIPAL DE ESTUFAS DEL RETIRO  medioambiental  2019  enero  \\\n",
       "5        VIVERO MUNICIPAL DE MIGAS CALIENTES  medioambiental  2019  enero   \n",
       "6              ROSALEDA DEL PARQUE DEL OESTE  medioambiental  2019  enero   \n",
       "7                      UID VILLA DE VALLECAS       seguridad  2019  enero   \n",
       "8                              BASE 14 SAMUR       sanitario  2019  enero   \n",
       "...                                      ...             ...   ...    ...   \n",
       "3295                   UID VILLA DE VALLECAS       seguridad  2022  enero   \n",
       "3296                           BASE 14 SAMUR       sanitario  2022  enero   \n",
       "3297                CENTRO PROTECCIÓN ANIMAL       sanitario  2022  enero   \n",
       "3298                    PARQUE BOMBEROS Nº 6       seguridad  2022  enero   \n",
       "3299                 PARQUE DE BOMBEROS Nº 7       seguridad  2022  enero   \n",
       "\n",
       "         CÁLCULO  \n",
       "4     Estimación  \n",
       "5     Estimación  \n",
       "6     Estimación  \n",
       "7     Estimación  \n",
       "8     Estimación  \n",
       "...          ...  \n",
       "3295  Estimación  \n",
       "3296  Estimación  \n",
       "3297  Estimación  \n",
       "3298  Estimación  \n",
       "3299  Estimación  \n",
       "\n",
       "[3296 rows x 5 columns]"
      ]
     },
     "execution_count": 9,
     "metadata": {},
     "output_type": "execute_result"
    }
   ],
   "source": [
    "df_placas[4:3300][[\"CENTRO\", \"USO\", \"AÑO\", \"MES\",\"CÁLCULO\"]]"
   ]
  },
  {
   "cell_type": "code",
   "execution_count": 10,
   "metadata": {},
   "outputs": [
    {
     "data": {
      "text/html": [
       "<div>\n",
       "<style scoped>\n",
       "    .dataframe tbody tr th:only-of-type {\n",
       "        vertical-align: middle;\n",
       "    }\n",
       "\n",
       "    .dataframe tbody tr th {\n",
       "        vertical-align: top;\n",
       "    }\n",
       "\n",
       "    .dataframe thead th {\n",
       "        text-align: right;\n",
       "    }\n",
       "</style>\n",
       "<table border=\"1\" class=\"dataframe\">\n",
       "  <thead>\n",
       "    <tr style=\"text-align: right;\">\n",
       "      <th></th>\n",
       "      <th>CENTRO</th>\n",
       "      <th>USO</th>\n",
       "      <th>Coordenada-X</th>\n",
       "      <th>Coordenada-Y</th>\n",
       "      <th>Latitud</th>\n",
       "      <th>Longitud</th>\n",
       "      <th>POTENCIA KWP</th>\n",
       "      <th>AÑO</th>\n",
       "      <th>MES</th>\n",
       "      <th>CÁLCULO</th>\n",
       "      <th>ENERGÍA PRODUCIDA KWh</th>\n",
       "    </tr>\n",
       "  </thead>\n",
       "  <tbody>\n",
       "    <tr>\n",
       "      <th>3076</th>\n",
       "      <td>NaN</td>\n",
       "      <td>NaN</td>\n",
       "      <td>NaN</td>\n",
       "      <td>NaN</td>\n",
       "      <td>NaN</td>\n",
       "      <td>NaN</td>\n",
       "      <td>7.0</td>\n",
       "      <td>2021</td>\n",
       "      <td>noviembre</td>\n",
       "      <td>Estimación</td>\n",
       "      <td>748.44</td>\n",
       "    </tr>\n",
       "    <tr>\n",
       "      <th>4727</th>\n",
       "      <td>Vivero de la Casa de Campo</td>\n",
       "      <td>medioambiental</td>\n",
       "      <td>438625.6</td>\n",
       "      <td>4474696.0</td>\n",
       "      <td>40.42063</td>\n",
       "      <td>-3.723464689280627</td>\n",
       "      <td>NaN</td>\n",
       "      <td>2023</td>\n",
       "      <td>enero</td>\n",
       "      <td>Medición</td>\n",
       "      <td>345.00</td>\n",
       "    </tr>\n",
       "    <tr>\n",
       "      <th>4850</th>\n",
       "      <td>Vivero de la Casa de Campo</td>\n",
       "      <td>medioambiental</td>\n",
       "      <td>438625.6</td>\n",
       "      <td>4474696.0</td>\n",
       "      <td>40.42063</td>\n",
       "      <td>-3.723464689280627</td>\n",
       "      <td>NaN</td>\n",
       "      <td>2023</td>\n",
       "      <td>febrero</td>\n",
       "      <td>Medición</td>\n",
       "      <td>448.00</td>\n",
       "    </tr>\n",
       "    <tr>\n",
       "      <th>4975</th>\n",
       "      <td>Vivero de la Casa de Campo</td>\n",
       "      <td>medioambiental</td>\n",
       "      <td>438625.6</td>\n",
       "      <td>4474696.0</td>\n",
       "      <td>40.42063</td>\n",
       "      <td>-3.723464689280627</td>\n",
       "      <td>NaN</td>\n",
       "      <td>2023</td>\n",
       "      <td>marzo</td>\n",
       "      <td>Medición</td>\n",
       "      <td>681.00</td>\n",
       "    </tr>\n",
       "  </tbody>\n",
       "</table>\n",
       "</div>"
      ],
      "text/plain": [
       "                          CENTRO             USO  Coordenada-X  Coordenada-Y   \n",
       "3076                         NaN             NaN           NaN           NaN  \\\n",
       "4727  Vivero de la Casa de Campo  medioambiental      438625.6     4474696.0   \n",
       "4850  Vivero de la Casa de Campo  medioambiental      438625.6     4474696.0   \n",
       "4975  Vivero de la Casa de Campo  medioambiental      438625.6     4474696.0   \n",
       "\n",
       "       Latitud            Longitud  POTENCIA KWP   AÑO        MES     CÁLCULO   \n",
       "3076       NaN                 NaN           7.0  2021  noviembre  Estimación  \\\n",
       "4727  40.42063  -3.723464689280627           NaN  2023      enero    Medición   \n",
       "4850  40.42063  -3.723464689280627           NaN  2023    febrero    Medición   \n",
       "4975  40.42063  -3.723464689280627           NaN  2023      marzo    Medición   \n",
       "\n",
       "      ENERGÍA PRODUCIDA KWh  \n",
       "3076                 748.44  \n",
       "4727                 345.00  \n",
       "4850                 448.00  \n",
       "4975                 681.00  "
      ]
     },
     "execution_count": 10,
     "metadata": {},
     "output_type": "execute_result"
    }
   ],
   "source": [
    "df_placas.drop(df_placas.dropna().index)"
   ]
  },
  {
   "cell_type": "code",
   "execution_count": 11,
   "metadata": {},
   "outputs": [
    {
     "data": {
      "text/plain": [
       "4973"
      ]
     },
     "execution_count": 11,
     "metadata": {},
     "output_type": "execute_result"
    }
   ],
   "source": [
    "\n",
    "df_placas.shape[0] - 5"
   ]
  },
  {
   "cell_type": "code",
   "execution_count": 12,
   "metadata": {},
   "outputs": [
    {
     "data": {
      "text/html": [
       "<div>\n",
       "<style scoped>\n",
       "    .dataframe tbody tr th:only-of-type {\n",
       "        vertical-align: middle;\n",
       "    }\n",
       "\n",
       "    .dataframe tbody tr th {\n",
       "        vertical-align: top;\n",
       "    }\n",
       "\n",
       "    .dataframe thead th {\n",
       "        text-align: right;\n",
       "    }\n",
       "</style>\n",
       "<table border=\"1\" class=\"dataframe\">\n",
       "  <thead>\n",
       "    <tr style=\"text-align: right;\">\n",
       "      <th></th>\n",
       "      <th>CENTRO</th>\n",
       "      <th>USO</th>\n",
       "      <th>Coordenada-X</th>\n",
       "      <th>Coordenada-Y</th>\n",
       "      <th>Latitud</th>\n",
       "      <th>Longitud</th>\n",
       "      <th>POTENCIA KWP</th>\n",
       "      <th>AÑO</th>\n",
       "      <th>MES</th>\n",
       "      <th>CÁLCULO</th>\n",
       "      <th>ENERGÍA PRODUCIDA KWh</th>\n",
       "    </tr>\n",
       "  </thead>\n",
       "  <tbody>\n",
       "    <tr>\n",
       "      <th>0</th>\n",
       "      <td>MADRID EMPRENDE</td>\n",
       "      <td>administrativo</td>\n",
       "      <td>436689.0</td>\n",
       "      <td>4468938.0</td>\n",
       "      <td>40.368616</td>\n",
       "      <td>-3.74573026512817</td>\n",
       "      <td>10.0</td>\n",
       "      <td>2019</td>\n",
       "      <td>enero</td>\n",
       "      <td>Estimación</td>\n",
       "      <td>1004.400000</td>\n",
       "    </tr>\n",
       "    <tr>\n",
       "      <th>1</th>\n",
       "      <td>MARES MADRID</td>\n",
       "      <td>administrativo</td>\n",
       "      <td>443153.0</td>\n",
       "      <td>4471330.0</td>\n",
       "      <td>40.390628</td>\n",
       "      <td>-3.669802</td>\n",
       "      <td>7.0</td>\n",
       "      <td>2019</td>\n",
       "      <td>enero</td>\n",
       "      <td>Estimación</td>\n",
       "      <td>703.080000</td>\n",
       "    </tr>\n",
       "    <tr>\n",
       "      <th>2</th>\n",
       "      <td>NAVE BOETTICHER</td>\n",
       "      <td>administrativo</td>\n",
       "      <td>440849.0</td>\n",
       "      <td>4466524.0</td>\n",
       "      <td>40.347177</td>\n",
       "      <td>-3.696499</td>\n",
       "      <td>5.0</td>\n",
       "      <td>2019</td>\n",
       "      <td>enero</td>\n",
       "      <td>Estimación</td>\n",
       "      <td>502.200000</td>\n",
       "    </tr>\n",
       "    <tr>\n",
       "      <th>3</th>\n",
       "      <td>AULA DE LA NATURALEZA DEHESA DE LA VILLA</td>\n",
       "      <td>medioambiental</td>\n",
       "      <td>439102.0</td>\n",
       "      <td>4478967.0</td>\n",
       "      <td>40.459141</td>\n",
       "      <td>-3.718270563679260</td>\n",
       "      <td>2.5</td>\n",
       "      <td>2019</td>\n",
       "      <td>enero</td>\n",
       "      <td>Estimación</td>\n",
       "      <td>251.100000</td>\n",
       "    </tr>\n",
       "    <tr>\n",
       "      <th>4</th>\n",
       "      <td>VIVERO MUNICIPAL DE ESTUFAS DEL RETIRO</td>\n",
       "      <td>medioambiental</td>\n",
       "      <td>441779.0</td>\n",
       "      <td>4473428.0</td>\n",
       "      <td>40.409435</td>\n",
       "      <td>-3.6861797800993200</td>\n",
       "      <td>5.0</td>\n",
       "      <td>2019</td>\n",
       "      <td>enero</td>\n",
       "      <td>Estimación</td>\n",
       "      <td>502.200000</td>\n",
       "    </tr>\n",
       "    <tr>\n",
       "      <th>...</th>\n",
       "      <td>...</td>\n",
       "      <td>...</td>\n",
       "      <td>...</td>\n",
       "      <td>...</td>\n",
       "      <td>...</td>\n",
       "      <td>...</td>\n",
       "      <td>...</td>\n",
       "      <td>...</td>\n",
       "      <td>...</td>\n",
       "      <td>...</td>\n",
       "      <td>...</td>\n",
       "    </tr>\n",
       "    <tr>\n",
       "      <th>4969</th>\n",
       "      <td>CDM HORTALEZA</td>\n",
       "      <td>deportivo</td>\n",
       "      <td>444781.7</td>\n",
       "      <td>4481144.5</td>\n",
       "      <td>40.479153</td>\n",
       "      <td>-3.6514634536929598</td>\n",
       "      <td>99.4</td>\n",
       "      <td>2023</td>\n",
       "      <td>marzo</td>\n",
       "      <td>Medición</td>\n",
       "      <td>11249.600586</td>\n",
       "    </tr>\n",
       "    <tr>\n",
       "      <th>4970</th>\n",
       "      <td>OAIC SACRAMENTO AGENCIA TRIBUTARIA</td>\n",
       "      <td>administrativo</td>\n",
       "      <td>439688.2</td>\n",
       "      <td>4474009.8</td>\n",
       "      <td>40.414526</td>\n",
       "      <td>-3.7108752639004567</td>\n",
       "      <td>8.0</td>\n",
       "      <td>2023</td>\n",
       "      <td>marzo</td>\n",
       "      <td>Estimación</td>\n",
       "      <td>1330.272000</td>\n",
       "    </tr>\n",
       "    <tr>\n",
       "      <th>4971</th>\n",
       "      <td>BASE SAMUR 4</td>\n",
       "      <td>sanitario</td>\n",
       "      <td>445135.7</td>\n",
       "      <td>4475423.6</td>\n",
       "      <td>40.427640</td>\n",
       "      <td>-3.6467931482127414</td>\n",
       "      <td>2.0</td>\n",
       "      <td>2023</td>\n",
       "      <td>marzo</td>\n",
       "      <td>Estimación</td>\n",
       "      <td>332.568000</td>\n",
       "    </tr>\n",
       "    <tr>\n",
       "      <th>4972</th>\n",
       "      <td>CMM SAN DIEGO</td>\n",
       "      <td>social</td>\n",
       "      <td>443704.6</td>\n",
       "      <td>4471139.1</td>\n",
       "      <td>40.388947</td>\n",
       "      <td>-3.6630476297262975</td>\n",
       "      <td>10.0</td>\n",
       "      <td>2023</td>\n",
       "      <td>marzo</td>\n",
       "      <td>Estimación</td>\n",
       "      <td>1662.840000</td>\n",
       "    </tr>\n",
       "    <tr>\n",
       "      <th>4973</th>\n",
       "      <td>CSS CENTRO DE DÍA Y ALZHEIMER ENSANCHE DE VALL...</td>\n",
       "      <td>social</td>\n",
       "      <td>449246.7</td>\n",
       "      <td>4468156.3</td>\n",
       "      <td>40.362464</td>\n",
       "      <td>-3.597762173364828</td>\n",
       "      <td>8.0</td>\n",
       "      <td>2023</td>\n",
       "      <td>marzo</td>\n",
       "      <td>Estimación</td>\n",
       "      <td>1330.272000</td>\n",
       "    </tr>\n",
       "  </tbody>\n",
       "</table>\n",
       "<p>4974 rows × 11 columns</p>\n",
       "</div>"
      ],
      "text/plain": [
       "                                                 CENTRO             USO   \n",
       "0                                       MADRID EMPRENDE  administrativo  \\\n",
       "1                                          MARES MADRID  administrativo   \n",
       "2                                       NAVE BOETTICHER  administrativo   \n",
       "3              AULA DE LA NATURALEZA DEHESA DE LA VILLA  medioambiental   \n",
       "4                VIVERO MUNICIPAL DE ESTUFAS DEL RETIRO  medioambiental   \n",
       "...                                                 ...             ...   \n",
       "4969                                      CDM HORTALEZA       deportivo   \n",
       "4970                 OAIC SACRAMENTO AGENCIA TRIBUTARIA  administrativo   \n",
       "4971                                       BASE SAMUR 4       sanitario   \n",
       "4972                                      CMM SAN DIEGO          social   \n",
       "4973  CSS CENTRO DE DÍA Y ALZHEIMER ENSANCHE DE VALL...          social   \n",
       "\n",
       "      Coordenada-X  Coordenada-Y    Latitud             Longitud   \n",
       "0         436689.0     4468938.0  40.368616    -3.74573026512817  \\\n",
       "1         443153.0     4471330.0  40.390628            -3.669802   \n",
       "2         440849.0     4466524.0  40.347177            -3.696499   \n",
       "3         439102.0     4478967.0  40.459141   -3.718270563679260   \n",
       "4         441779.0     4473428.0  40.409435  -3.6861797800993200   \n",
       "...            ...           ...        ...                  ...   \n",
       "4969      444781.7     4481144.5  40.479153  -3.6514634536929598   \n",
       "4970      439688.2     4474009.8  40.414526  -3.7108752639004567   \n",
       "4971      445135.7     4475423.6  40.427640  -3.6467931482127414   \n",
       "4972      443704.6     4471139.1  40.388947  -3.6630476297262975   \n",
       "4973      449246.7     4468156.3  40.362464   -3.597762173364828   \n",
       "\n",
       "      POTENCIA KWP   AÑO    MES     CÁLCULO  ENERGÍA PRODUCIDA KWh  \n",
       "0             10.0  2019  enero  Estimación            1004.400000  \n",
       "1              7.0  2019  enero  Estimación             703.080000  \n",
       "2              5.0  2019  enero  Estimación             502.200000  \n",
       "3              2.5  2019  enero  Estimación             251.100000  \n",
       "4              5.0  2019  enero  Estimación             502.200000  \n",
       "...            ...   ...    ...         ...                    ...  \n",
       "4969          99.4  2023  marzo    Medición           11249.600586  \n",
       "4970           8.0  2023  marzo  Estimación            1330.272000  \n",
       "4971           2.0  2023  marzo  Estimación             332.568000  \n",
       "4972          10.0  2023  marzo  Estimación            1662.840000  \n",
       "4973           8.0  2023  marzo  Estimación            1330.272000  \n",
       "\n",
       "[4974 rows x 11 columns]"
      ]
     },
     "execution_count": 12,
     "metadata": {},
     "output_type": "execute_result"
    }
   ],
   "source": [
    "df_solar_filt = df_placas.dropna().reset_index(drop=True)\n",
    "df_solar_filt"
   ]
  },
  {
   "attachments": {},
   "cell_type": "markdown",
   "metadata": {},
   "source": [
    "### Análisis exploratorio, tratamiento y limpieza de datos\n"
   ]
  },
  {
   "cell_type": "code",
   "execution_count": 13,
   "metadata": {},
   "outputs": [
    {
     "data": {
      "text/html": [
       "<div>\n",
       "<style scoped>\n",
       "    .dataframe tbody tr th:only-of-type {\n",
       "        vertical-align: middle;\n",
       "    }\n",
       "\n",
       "    .dataframe tbody tr th {\n",
       "        vertical-align: top;\n",
       "    }\n",
       "\n",
       "    .dataframe thead th {\n",
       "        text-align: right;\n",
       "    }\n",
       "</style>\n",
       "<table border=\"1\" class=\"dataframe\">\n",
       "  <thead>\n",
       "    <tr style=\"text-align: right;\">\n",
       "      <th></th>\n",
       "      <th>Coordenada-X</th>\n",
       "      <th>Coordenada-Y</th>\n",
       "      <th>Latitud</th>\n",
       "      <th>POTENCIA KWP</th>\n",
       "      <th>AÑO</th>\n",
       "      <th>ENERGÍA PRODUCIDA KWh</th>\n",
       "    </tr>\n",
       "  </thead>\n",
       "  <tbody>\n",
       "    <tr>\n",
       "      <th>count</th>\n",
       "      <td>4974.000000</td>\n",
       "      <td>4.974000e+03</td>\n",
       "      <td>4974.000000</td>\n",
       "      <td>4974.000000</td>\n",
       "      <td>4974.000000</td>\n",
       "      <td>4974.000000</td>\n",
       "    </tr>\n",
       "    <tr>\n",
       "      <th>mean</th>\n",
       "      <td>442288.822698</td>\n",
       "      <td>4.473026e+06</td>\n",
       "      <td>40.405668</td>\n",
       "      <td>16.767740</td>\n",
       "      <td>2020.822477</td>\n",
       "      <td>2289.351661</td>\n",
       "    </tr>\n",
       "    <tr>\n",
       "      <th>std</th>\n",
       "      <td>7463.014880</td>\n",
       "      <td>6.360208e+04</td>\n",
       "      <td>0.574529</td>\n",
       "      <td>16.312776</td>\n",
       "      <td>1.221024</td>\n",
       "      <td>2417.797171</td>\n",
       "    </tr>\n",
       "    <tr>\n",
       "      <th>min</th>\n",
       "      <td>0.000000</td>\n",
       "      <td>0.000000e+00</td>\n",
       "      <td>0.000000</td>\n",
       "      <td>2.000000</td>\n",
       "      <td>2019.000000</td>\n",
       "      <td>-13.200000</td>\n",
       "    </tr>\n",
       "    <tr>\n",
       "      <th>25%</th>\n",
       "      <td>439603.000000</td>\n",
       "      <td>4.470233e+06</td>\n",
       "      <td>40.379399</td>\n",
       "      <td>7.000000</td>\n",
       "      <td>2020.000000</td>\n",
       "      <td>885.600000</td>\n",
       "    </tr>\n",
       "    <tr>\n",
       "      <th>50%</th>\n",
       "      <td>442243.000000</td>\n",
       "      <td>4.473366e+06</td>\n",
       "      <td>40.409341</td>\n",
       "      <td>12.000000</td>\n",
       "      <td>2021.000000</td>\n",
       "      <td>1506.111750</td>\n",
       "    </tr>\n",
       "    <tr>\n",
       "      <th>75%</th>\n",
       "      <td>445584.000000</td>\n",
       "      <td>4.476508e+06</td>\n",
       "      <td>40.436863</td>\n",
       "      <td>20.000000</td>\n",
       "      <td>2022.000000</td>\n",
       "      <td>2853.687500</td>\n",
       "    </tr>\n",
       "    <tr>\n",
       "      <th>max</th>\n",
       "      <td>451431.000000</td>\n",
       "      <td>4.484225e+06</td>\n",
       "      <td>40.506657</td>\n",
       "      <td>100.000000</td>\n",
       "      <td>2023.000000</td>\n",
       "      <td>23800.000000</td>\n",
       "    </tr>\n",
       "  </tbody>\n",
       "</table>\n",
       "</div>"
      ],
      "text/plain": [
       "        Coordenada-X  Coordenada-Y      Latitud  POTENCIA KWP          AÑO   \n",
       "count    4974.000000  4.974000e+03  4974.000000   4974.000000  4974.000000  \\\n",
       "mean   442288.822698  4.473026e+06    40.405668     16.767740  2020.822477   \n",
       "std      7463.014880  6.360208e+04     0.574529     16.312776     1.221024   \n",
       "min         0.000000  0.000000e+00     0.000000      2.000000  2019.000000   \n",
       "25%    439603.000000  4.470233e+06    40.379399      7.000000  2020.000000   \n",
       "50%    442243.000000  4.473366e+06    40.409341     12.000000  2021.000000   \n",
       "75%    445584.000000  4.476508e+06    40.436863     20.000000  2022.000000   \n",
       "max    451431.000000  4.484225e+06    40.506657    100.000000  2023.000000   \n",
       "\n",
       "       ENERGÍA PRODUCIDA KWh  \n",
       "count            4974.000000  \n",
       "mean             2289.351661  \n",
       "std              2417.797171  \n",
       "min               -13.200000  \n",
       "25%               885.600000  \n",
       "50%              1506.111750  \n",
       "75%              2853.687500  \n",
       "max             23800.000000  "
      ]
     },
     "execution_count": 13,
     "metadata": {},
     "output_type": "execute_result"
    }
   ],
   "source": [
    "df_solar_filt.describe()\n"
   ]
  },
  {
   "cell_type": "code",
   "execution_count": 14,
   "metadata": {},
   "outputs": [
    {
     "data": {
      "text/plain": [
       "CENTRO                    object\n",
       "USO                       object\n",
       "Coordenada-X             float64\n",
       "Coordenada-Y             float64\n",
       "Latitud                  float64\n",
       "Longitud                  object\n",
       "POTENCIA KWP             float64\n",
       "AÑO                        int64\n",
       "MES                       object\n",
       "CÁLCULO                   object\n",
       "ENERGÍA PRODUCIDA KWh    float64\n",
       "dtype: object"
      ]
     },
     "execution_count": 14,
     "metadata": {},
     "output_type": "execute_result"
    }
   ],
   "source": [
    "df_solar_filt.dtypes"
   ]
  },
  {
   "cell_type": "code",
   "execution_count": 15,
   "metadata": {},
   "outputs": [
    {
     "data": {
      "text/plain": [
       "CENTRO      object\n",
       "USO         object\n",
       "Longitud    object\n",
       "MES         object\n",
       "CÁLCULO     object\n",
       "dtype: object"
      ]
     },
     "execution_count": 15,
     "metadata": {},
     "output_type": "execute_result"
    }
   ],
   "source": [
    "df_solar_filt.dtypes[df_solar_filt.dtypes == \"object\"]"
   ]
  },
  {
   "cell_type": "code",
   "execution_count": 16,
   "metadata": {},
   "outputs": [
    {
     "data": {
      "text/plain": [
       "CENTRO      object\n",
       "USO         object\n",
       "Longitud    object\n",
       "MES         object\n",
       "CÁLCULO     object\n",
       "dtype: object"
      ]
     },
     "execution_count": 16,
     "metadata": {},
     "output_type": "execute_result"
    }
   ],
   "source": [
    "df_solar_filt.dtypes[df_solar_filt.dtypes == \"object\"]"
   ]
  },
  {
   "cell_type": "code",
   "execution_count": 17,
   "metadata": {},
   "outputs": [
    {
     "data": {
      "text/plain": [
       "USO\n",
       "cultural          1028\n",
       "social             865\n",
       "deportivo          829\n",
       "educativo          784\n",
       "administrativo     542\n",
       "mixto              291\n",
       "seguridad          266\n",
       "medioambiental     204\n",
       "sanitario          116\n",
       "almacén             39\n",
       "deportivo            9\n",
       "0                    1\n",
       "Name: count, dtype: int64"
      ]
     },
     "execution_count": 17,
     "metadata": {},
     "output_type": "execute_result"
    }
   ],
   "source": [
    "df_solar_filt['USO'].value_counts()"
   ]
  },
  {
   "cell_type": "code",
   "execution_count": 18,
   "metadata": {},
   "outputs": [],
   "source": [
    "# columnas a eliminar por ser informativas\n",
    "columnas_drop = [\"CENTRO\", \"USO\", \"AÑO\", \"MES\", \"CÁLCULO\"]"
   ]
  },
  {
   "cell_type": "code",
   "execution_count": 19,
   "metadata": {},
   "outputs": [
    {
     "name": "stdout",
     "output_type": "stream",
     "text": [
      "Tamaño del tablón filtrado:  (4974, 11)\n",
      "Tamaño del tablón nuevo:  (4974, 6)\n"
     ]
    }
   ],
   "source": [
    "df_solar_filt2 = df_solar_filt.drop(columns = columnas_drop)\n",
    "print(\"Tamaño del tablón filtrado: \", df_solar_filt.shape)\n",
    "print(\"Tamaño del tablón nuevo: \", df_solar_filt2.shape)"
   ]
  },
  {
   "cell_type": "code",
   "execution_count": 20,
   "metadata": {},
   "outputs": [
    {
     "data": {
      "text/plain": [
       "float64    5\n",
       "object     1\n",
       "Name: count, dtype: int64"
      ]
     },
     "execution_count": 20,
     "metadata": {},
     "output_type": "execute_result"
    }
   ],
   "source": [
    "df_solar_filt2.dtypes.value_counts()"
   ]
  },
  {
   "cell_type": "code",
   "execution_count": 21,
   "metadata": {},
   "outputs": [
    {
     "data": {
      "text/plain": [
       "Longitud\n",
       "-3.74573026512817      51\n",
       "-3.621281890570370     51\n",
       "-3.6662090478322400    51\n",
       "-3.6691167784691700    51\n",
       "-3.6709293330780200    51\n",
       "                       ..\n",
       "-3.6731747821526333     3\n",
       "-3.6630476297262975     2\n",
       "-3.597762173364828      2\n",
       "-3.614247419127         1\n",
       "0                       1\n",
       "Name: count, Length: 128, dtype: int64"
      ]
     },
     "execution_count": 21,
     "metadata": {},
     "output_type": "execute_result"
    }
   ],
   "source": [
    "df_solar_filt2[\"Longitud\"].value_counts()"
   ]
  },
  {
   "cell_type": "code",
   "execution_count": 22,
   "metadata": {},
   "outputs": [],
   "source": [
    "from sklearn.preprocessing import LabelEncoder\n",
    "etiquetado = LabelEncoder()\n",
    "etiquetado.fit(df_solar_filt2[\"Longitud\"])"
   ]
  },
  {
   "cell_type": "code",
   "execution_count": null,
   "metadata": {},
   "outputs": [],
   "source": [
    "etiquetado.classes_"
   ]
  },
  {
   "cell_type": "code",
   "execution_count": null,
   "metadata": {},
   "outputs": [],
   "source": [
    "#ver que valores hay nulos\n",
    "df_solar_filt2['Longitud'].isnull().sum()"
   ]
  },
  {
   "cell_type": "code",
   "execution_count": null,
   "metadata": {},
   "outputs": [],
   "source": [
    "etiquetado.transform(df_solar_filt2[\"Longitud\"])\n",
    "# obtenemos un array de numpy de tipo enteros"
   ]
  },
  {
   "cell_type": "code",
   "execution_count": null,
   "metadata": {},
   "outputs": [],
   "source": [
    "#comprobar que estos valores tienen una relación con la columna anterior\n",
    "df_solar_filt2[\"Longitud_etiquetado\"] = etiquetado.transform(df_solar_filt2[\"Longitud\"])\n",
    "\n",
    "# mostrar la relación con los datos originales\n",
    "df_solar_filt2.groupby([\"Longitud\", \"Longitud_etiquetado\"]).count()"
   ]
  },
  {
   "cell_type": "code",
   "execution_count": null,
   "metadata": {},
   "outputs": [],
   "source": [
    "df_solar_filt3 = df_solar_filt2.drop(columns = [\"Longitud\"])"
   ]
  },
  {
   "attachments": {},
   "cell_type": "markdown",
   "metadata": {},
   "source": [
    "### Reducción de variables\n",
    "Importancia de variables"
   ]
  },
  {
   "cell_type": "code",
   "execution_count": null,
   "metadata": {},
   "outputs": [],
   "source": [
    "# generar la lista de features y la variable target\n",
    "target = 'ENERGÍA PRODUCIDA KWh'\n",
    "features = [x for x in df_solar_filt3.columns if x != target]\n",
    "\n",
    "print(target)\n",
    "print(features)"
   ]
  },
  {
   "cell_type": "code",
   "execution_count": null,
   "metadata": {},
   "outputs": [],
   "source": [
    "df_solar_filt3[target]"
   ]
  },
  {
   "cell_type": "code",
   "execution_count": null,
   "metadata": {},
   "outputs": [],
   "source": [
    "# Importar el algoritmo de árboles de decisión\n",
    "from sklearn.tree import DecisionTreeRegressor\n",
    "\n",
    "# Asignar el algortimo e indicar la profundidad máxima del árbol (con un número rotandamente grande para sobreajustar)\n",
    "arbol_importancia = DecisionTreeRegressor(max_depth=len(features)+10, random_state=42)\n",
    "\n",
    "# Entrenar un árbol con todo el conjunto de datos\n",
    "arbol_importancia.fit(X=df_solar_filt3[features], y=df_solar_filt3[target])"
   ]
  },
  {
   "cell_type": "code",
   "execution_count": null,
   "metadata": {},
   "outputs": [],
   "source": [
    "# Comprobamos que se obtiene un R^2 muy alto. Lo desesable es que sea 1.\n",
    "y_pred_arbol = arbol_importancia.predict(X=df_solar_filt3[features])\n",
    "\n",
    "from sklearn.metrics import mean_absolute_error\n",
    "from sklearn.metrics import mean_absolute_percentage_error\n",
    "from sklearn.metrics import mean_squared_error\n",
    "from sklearn.metrics import r2_score\n",
    "\n",
    "# Métricas para evaluar la calidad del modelo\n",
    "print('Mean Absolute Error:', mean_absolute_error(df_solar_filt3[target], y_pred_arbol))\n",
    "print('Mean Absolute Percentage Error:', mean_absolute_percentage_error(df_solar_filt3[target], y_pred_arbol)*100)\n",
    "print('Mean Squared Error:', mean_squared_error(df_solar_filt3[target], y_pred_arbol))\n",
    "print('Root Mean Squared Error:', np.sqrt(mean_squared_error(df_solar_filt3[target], y_pred_arbol)))\n",
    "print('R^2 coefficient of determination:', r2_score(df_solar_filt3[target], y_pred_arbol))"
   ]
  },
  {
   "cell_type": "code",
   "execution_count": null,
   "metadata": {},
   "outputs": [],
   "source": [
    "# Importancias de cada variable en el árbol ajustado (Gini importance)\n",
    "arbol_importancia.feature_importances_"
   ]
  },
  {
   "cell_type": "code",
   "execution_count": null,
   "metadata": {},
   "outputs": [],
   "source": [
    "# Creamos un DataFrame con los datos de importancia\n",
    "importancia = pd.DataFrame(arbol_importancia.feature_importances_, index=features, columns=[\"Importancia\"])\n",
    "\n",
    "# Ordenamos los datos\n",
    "importancia.sort_values(by=importancia.columns[0], ascending=False, inplace=True)\n",
    "importancia"
   ]
  },
  {
   "cell_type": "code",
   "execution_count": null,
   "metadata": {},
   "outputs": [],
   "source": [
    "importancia[\"imp_acum\"] = importancia[\"Importancia\"].cumsum()\n",
    "importancia"
   ]
  },
  {
   "cell_type": "code",
   "execution_count": null,
   "metadata": {},
   "outputs": [],
   "source": [
    "# Conjunto de variables más importantes\n",
    "importancia.loc[importancia['imp_acum']<=0.90]"
   ]
  },
  {
   "cell_type": "code",
   "execution_count": null,
   "metadata": {},
   "outputs": [],
   "source": [
    "variables = importancia.loc[importancia['imp_acum']>0.90].index.to_list()\n",
    "print(variables)"
   ]
  },
  {
   "attachments": {},
   "cell_type": "markdown",
   "metadata": {},
   "source": [
    "Todas ls variables tienen importancia, no eliminamos ninguna."
   ]
  },
  {
   "cell_type": "code",
   "execution_count": null,
   "metadata": {},
   "outputs": [],
   "source": [
    "df_solar_filt3"
   ]
  }
 ],
 "metadata": {
  "kernelspec": {
   "display_name": "Python 3",
   "language": "python",
   "name": "python3"
  },
  "language_info": {
   "codemirror_mode": {
    "name": "ipython",
    "version": 3
   },
   "file_extension": ".py",
   "mimetype": "text/x-python",
   "name": "python",
   "nbconvert_exporter": "python",
   "pygments_lexer": "ipython3",
   "version": "3.10.11"
  },
  "orig_nbformat": 4
 },
 "nbformat": 4,
 "nbformat_minor": 2
}
